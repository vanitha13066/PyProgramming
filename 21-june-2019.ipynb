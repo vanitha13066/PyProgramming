{
 "cells": [
  {
   "cell_type": "code",
   "execution_count": 9,
   "metadata": {},
   "outputs": [
    {
     "name": "stdout",
     "output_type": "stream",
     "text": [
      "3\n"
     ]
    }
   ],
   "source": [
    "n=int(input())\n",
    "i=0\n",
    "sum=0\n",
    "for i in range(1,n):\n",
    "    \n",
    "    sum=i+i*2;\n",
    "    if(sum>=n):\n",
    "        break\n",
    "        if((sum+i)>=n):\n",
    "            print(\"Motu\")\n",
    "        else:\n",
    "            print(\"Patlu\")"
   ]
  },
  {
   "cell_type": "code",
   "execution_count": 10,
   "metadata": {},
   "outputs": [
    {
     "name": "stdout",
     "output_type": "stream",
     "text": [
      "2\n"
     ]
    }
   ],
   "source": [
    "n=int(input())\n",
    "i=0\n",
    "sum=0\n",
    "for i in range(1,n):\n",
    "    sum=i+i*2\n",
    "    if(sum>=n):\n",
    "        break\n",
    "        if(sum+i>=n):\n",
    "            print(\"motu\")\n",
    "        else:\n",
    "            print(\"patlu\")\n",
    "\n",
    "print()\n",
    "\n",
    "            \n",
    "            \n",
    "    "
   ]
  },
  {
   "cell_type": "code",
   "execution_count": 20,
   "metadata": {},
   "outputs": [
    {
     "name": "stdout",
     "output_type": "stream",
     "text": [
      "LLRDDR\n",
      "0 -2\n"
     ]
    }
   ],
   "source": [
    "E-MAZE-IN\n",
    "\n",
    "x=y=0\n",
    "for maze in input():\n",
    "    if maze=='L':\n",
    "        x=x-1\n",
    "    if maze=='U':\n",
    "        y=y+1\n",
    "    if maze=='R':\n",
    "        x=x+1\n",
    "    if maze=='D':\n",
    "        y=y-1\n",
    "print(x,y)"
   ]
  },
  {
   "cell_type": "code",
   "execution_count": 54,
   "metadata": {},
   "outputs": [
    {
     "name": "stdout",
     "output_type": "stream",
     "text": [
      "21\n",
      "Patlu\n"
     ]
    }
   ],
   "source": [
    "##BRICKS GAME\n",
    "\n",
    "\n",
    "\n",
    "n= int(input())\n",
    "for i in range(n):\n",
    "    if(n-i<=0):\n",
    "        print(\"Patlu\")\n",
    "        break\n",
    "    else:\n",
    "        n-=i\n",
    "        if(n-(2*i)<=0):\n",
    "            print(\"Motu\")\n",
    "            break\n",
    "        else:\n",
    "            n-=2*i"
   ]
  },
  {
   "cell_type": "code",
   "execution_count": null,
   "metadata": {},
   "outputs": [],
   "source": []
  },
  {
   "cell_type": "code",
   "execution_count": null,
   "metadata": {},
   "outputs": [],
   "source": [
    "from Packages import validators\n",
    "\n",
    "def addContact(name,phone,email)"
   ]
  },
  {
   "cell_type": "code",
   "execution_count": 56,
   "metadata": {},
   "outputs": [
    {
     "name": "stdout",
     "output_type": "stream",
     "text": [
      "4\n",
      "5\n",
      "B\n",
      "6\n",
      "B\n",
      "2\n",
      "A\n",
      "8\n",
      "B\n"
     ]
    }
   ],
   "source": [
    "##Lift Queries\n",
    "\n",
    "lift_A=0\n",
    "lift_B=7\n",
    "test_case=int(input())\n",
    "for _ in range(test_case):\n",
    "    N=int(input())\n",
    "    condition_A=abs(lift_A-N)\n",
    "    condition_B=abs(lift_B-N)\n",
    "    if(condition_A <= condition_B):\n",
    "        print(\"A\")\n",
    "        lift_A=N\n",
    "    else:\n",
    "        print(\"B\")\n",
    "        lift_B=N\n",
    "    \n",
    "\n"
   ]
  },
  {
   "cell_type": "code",
   "execution_count": 57,
   "metadata": {},
   "outputs": [
    {
     "ename": "FileNotFoundError",
     "evalue": "[Errno 2] No such file or directory: 'DataFiles/contacts.txt'",
     "output_type": "error",
     "traceback": [
      "\u001b[1;31m---------------------------------------------------------------------------\u001b[0m",
      "\u001b[1;31mFileNotFoundError\u001b[0m                         Traceback (most recent call last)",
      "\u001b[1;32m<ipython-input-57-2e57a2b8bfc0>\u001b[0m in \u001b[0;36m<module>\u001b[1;34m\u001b[0m\n\u001b[0;32m     13\u001b[0m     \u001b[1;32mreturn\u001b[0m \u001b[0ms\u001b[0m\u001b[1;33m\u001b[0m\u001b[1;33m\u001b[0m\u001b[0m\n\u001b[0;32m     14\u001b[0m \u001b[1;33m\u001b[0m\u001b[0m\n\u001b[1;32m---> 15\u001b[1;33m \u001b[0mli\u001b[0m\u001b[1;33m=\u001b[0m\u001b[0mcsvToList\u001b[0m\u001b[1;33m(\u001b[0m\u001b[0mfilename\u001b[0m\u001b[1;33m)\u001b[0m\u001b[1;33m\u001b[0m\u001b[1;33m\u001b[0m\u001b[0m\n\u001b[0m\u001b[0;32m     16\u001b[0m \u001b[0mListToFile\u001b[0m\u001b[1;33m(\u001b[0m\u001b[0mli\u001b[0m\u001b[1;33m)\u001b[0m\u001b[1;33m\u001b[0m\u001b[1;33m\u001b[0m\u001b[0m\n",
      "\u001b[1;32m<ipython-input-57-2e57a2b8bfc0>\u001b[0m in \u001b[0;36mcsvToList\u001b[1;34m(filename)\u001b[0m\n\u001b[0;32m      2\u001b[0m \u001b[1;32mdef\u001b[0m \u001b[0mcsvToList\u001b[0m\u001b[1;33m(\u001b[0m\u001b[0mfilename\u001b[0m\u001b[1;33m)\u001b[0m\u001b[1;33m:\u001b[0m\u001b[1;33m\u001b[0m\u001b[1;33m\u001b[0m\u001b[0m\n\u001b[0;32m      3\u001b[0m     \u001b[0mli\u001b[0m\u001b[1;33m=\u001b[0m\u001b[1;33m[\u001b[0m\u001b[1;33m]\u001b[0m\u001b[1;33m\u001b[0m\u001b[1;33m\u001b[0m\u001b[0m\n\u001b[1;32m----> 4\u001b[1;33m     \u001b[1;32mwith\u001b[0m \u001b[0mopen\u001b[0m\u001b[1;33m(\u001b[0m\u001b[0mfilename\u001b[0m\u001b[1;33m,\u001b[0m\u001b[1;34m'r'\u001b[0m\u001b[1;33m)\u001b[0m \u001b[1;32mas\u001b[0m \u001b[0mf\u001b[0m\u001b[1;33m:\u001b[0m\u001b[1;33m\u001b[0m\u001b[1;33m\u001b[0m\u001b[0m\n\u001b[0m\u001b[0;32m      5\u001b[0m         \u001b[1;32mfor\u001b[0m \u001b[0mline\u001b[0m \u001b[1;32min\u001b[0m \u001b[0mf\u001b[0m\u001b[1;33m:\u001b[0m\u001b[1;33m\u001b[0m\u001b[1;33m\u001b[0m\u001b[0m\n\u001b[0;32m      6\u001b[0m             \u001b[0mli\u001b[0m\u001b[1;33m.\u001b[0m\u001b[0mappend\u001b[0m\u001b[1;33m(\u001b[0m\u001b[0mline\u001b[0m\u001b[1;33m.\u001b[0m\u001b[0msplit\u001b[0m\u001b[1;33m(\u001b[0m\u001b[1;34m','\u001b[0m\u001b[1;33m)\u001b[0m\u001b[1;33m)\u001b[0m\u001b[1;33m\u001b[0m\u001b[1;33m\u001b[0m\u001b[0m\n",
      "\u001b[1;31mFileNotFoundError\u001b[0m: [Errno 2] No such file or directory: 'DataFiles/contacts.txt'"
     ]
    }
   ],
   "source": [
    "filename='DataFiles/contacts.txt'\n",
    "def csvToList(filename):\n",
    "    li=[]\n",
    "    with open(filename,'r') as f:\n",
    "        for line in f:\n",
    "            li.append(line.split(','))\n",
    "        return li\n",
    "\n",
    "def listToFile(li):\n",
    "    s=' '\n",
    "    for i in li:\n",
    "        s.join(i)\n",
    "    return s\n",
    "\n",
    "li=csvToList(filename)\n",
    "ListToFile(li)"
   ]
  },
  {
   "cell_type": "code",
   "execution_count": null,
   "metadata": {},
   "outputs": [],
   "source": [
    "filename=\"../APSSDC-Python-Programming-June-2019/Data Files/data1.txt\"\n",
    "words=0\n",
    "characters=0\n",
    "lines=0\n",
    "with open(filename,'r') as file:\n",
    "    for line in file:\n",
    "        wordslist=line.split()\n",
    "        lines=lines+1\n",
    "        words=words+len(wordslist)\n",
    "        characters=characters+len(line)\n",
    "\n",
    "print(words)\n",
    "print(characters)\n",
    "print(lines)\n",
    "\n",
    "\n",
    "\n",
    "###no of unique words\n",
    "\n",
    "def readFile(filepath):\n",
    "    with open(filepath,\"r\") as f:\n",
    "        filedata=f.read()\n",
    "        for i in filedata.split():\n",
    "            print(i,filedata.split().count(i))\n",
    "    return\n",
    "readFile(\"../APSSDC-Python-Programming-June-2019/Data Files/data1.txt\")\n",
    "\n",
    "\n",
    "\n",
    "Contacts={}\n",
    "def addContact(name,phone):\n",
    "    #verify that the contact does not already exist \n",
    "    if name not in Contacts:\n",
    "        Contacts[name]=phone\n",
    "        print(\"contact %s added\" %name)\n",
    "    else:\n",
    "        print(\"Contact %s already exists\" %name)\n",
    "    return \n",
    "\n",
    "addContact(\"name5\",\"345739585\")\n",
    "\n",
    "    \n",
    "    \n",
    "def searchContacts(name):\n",
    "    if name in Contacts:\n",
    "        print(name,\":\",Contacts[name])\n",
    "    else:\n",
    "        print(\"%s does not exist\" %name)\n",
    "    return \n",
    "searchContacts(\"name5\")\n",
    "\n",
    "\n",
    "\n",
    "##New contact is given in dictionary\n",
    "\n",
    "\n",
    "def importContacts(newContacts):\n",
    "    Contacts.update(newContacts)\n",
    "    print(len(newContacts.keys()),\"added successfully\")\n",
    "    return\n",
    "newContacts={\"name2\":56883939,\"name3\":57834939,\"name1\":363637,\"name4\":73673888,\"name5\":8735687365,\"name6\":78265876387}\n",
    "importContacts(newContacts)\n",
    "    \n",
    "    \n",
    "    \n",
    "###Function to generate N random numbers\n",
    "\n",
    "import random\n",
    "\n",
    "def generateNRandomNumbers(n,lb,ub):\n",
    "    for i in range(0,n):\n",
    "        print(random.randint(lb,ub),end=\" \")\n",
    "        \n",
    "\n",
    "\n",
    "generateNRandomNumbers(10,0,100)\n",
    "    \n",
    "    \n",
    "    "
   ]
  },
  {
   "cell_type": "code",
   "execution_count": null,
   "metadata": {},
   "outputs": [],
   "source": []
  },
  {
   "cell_type": "code",
   "execution_count": null,
   "metadata": {},
   "outputs": [],
   "source": []
  },
  {
   "cell_type": "code",
   "execution_count": null,
   "metadata": {},
   "outputs": [],
   "source": []
  },
  {
   "cell_type": "code",
   "execution_count": null,
   "metadata": {},
   "outputs": [],
   "source": []
  },
  {
   "cell_type": "code",
   "execution_count": null,
   "metadata": {},
   "outputs": [],
   "source": []
  }
 ],
 "metadata": {
  "kernelspec": {
   "display_name": "Python 3",
   "language": "python",
   "name": "python3"
  },
  "language_info": {
   "codemirror_mode": {
    "name": "ipython",
    "version": 3
   },
   "file_extension": ".py",
   "mimetype": "text/x-python",
   "name": "python",
   "nbconvert_exporter": "python",
   "pygments_lexer": "ipython3",
   "version": "3.7.3"
  }
 },
 "nbformat": 4,
 "nbformat_minor": 2
}
