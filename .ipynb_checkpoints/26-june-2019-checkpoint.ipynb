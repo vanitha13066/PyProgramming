{
 "cells": [
  {
   "cell_type": "code",
   "execution_count": 1,
   "metadata": {},
   "outputs": [],
   "source": [
    "# Marks Analysis Application\n",
    "    # Generate the Marks file for N students\n",
    "    # Input: Marks text file - each  line contain marks of one student\n",
    "    # Generate a report with the following information\n",
    "       # Class Average \n",
    "       # % of students passed\n",
    "       # % of students failed\n",
    "       # % of students with Distinction\n",
    "       # Highest Mark Frequency\n",
    "        # Lowest Mark Frequency"
   ]
  },
  {
   "cell_type": "code",
   "execution_count": null,
   "metadata": {},
   "outputs": [],
   "source": []
  },
  {
   "cell_type": "code",
   "execution_count": 4,
   "metadata": {},
   "outputs": [],
   "source": [
    "# Function to generate marks data for n students\n",
    "\n",
    "from random import randint\n",
    "\n",
    "def generateMarksFile(n,lb,ub):\n",
    "    with open(\"package/marks.txt\",'w') as f:\n",
    "        for i in range(n):\n",
    "            r=randint(lb,ub)\n",
    "            f.write(str(r) + '\\n')\n",
    "    return\n",
    "generateMarksFile(500,0,100)\n",
    "            "
   ]
  },
  {
   "cell_type": "code",
   "execution_count": 6,
   "metadata": {},
   "outputs": [
    {
     "name": "stdout",
     "output_type": "stream",
     "text": [
      "Average Marks of All n Students: 50.11\n"
     ]
    }
   ],
   "source": [
    "def classAverage(filename):\n",
    "    sum=0\n",
    "    c=0\n",
    "    with open(filename,'r') as f:\n",
    "        filedata=f.read().split()\n",
    "        for i in filedata:\n",
    "            sum=sum+int(i)\n",
    "            c=c+1\n",
    "        avg=sum/c\n",
    "        print(\"Average Marks of All n Students:\",avg)\n",
    "    return\n",
    "classAverage(\"package/marks.txt\")"
   ]
  },
  {
   "cell_type": "code",
   "execution_count": 7,
   "metadata": {},
   "outputs": [
    {
     "name": "stdout",
     "output_type": "stream",
     "text": [
      "Percentage of Students Passed is:  86 %\n"
     ]
    }
   ],
   "source": [
    "def percentageOfStudPassed(filename):\n",
    "    with open(filename,'r') as f:\n",
    "        filedata=f.read().split()\n",
    "        sum=0\n",
    "        total=0\n",
    "        for i in filedata:\n",
    "            total=total+int(i)\n",
    "            if int(i)>35:\n",
    "                sum=sum+int(i)\n",
    "            else:\n",
    "                pass\n",
    "        result=(sum/total)*100\n",
    "        print(\"Percentage of Students Passed is: \",int(result),'%')\n",
    "    return\n",
    "percentageOfStudPassed(\"package/marks.txt\")"
   ]
  },
  {
   "cell_type": "code",
   "execution_count": 8,
   "metadata": {},
   "outputs": [
    {
     "name": "stdout",
     "output_type": "stream",
     "text": [
      "Percentage of Students Failed is: 12 %\n"
     ]
    }
   ],
   "source": [
    "def percentageOfStudFailed(filename):\n",
    "    with open(filename,'r') as f:\n",
    "        filedata=f.read().split()\n",
    "        sum=0\n",
    "        total=0\n",
    "        for i in filedata:\n",
    "            total=total+int(i)\n",
    "            if int(i)<35:\n",
    "                sum=sum+int(i)\n",
    "            else:\n",
    "                pass\n",
    "        result=(sum/total)*100\n",
    "        print(\"Percentage of Students Failed is:\",int(result),'%')\n",
    "percentageOfStudFailed(\"package/marks.txt\")"
   ]
  },
  {
   "cell_type": "code",
   "execution_count": 9,
   "metadata": {},
   "outputs": [
    {
     "name": "stdout",
     "output_type": "stream",
     "text": [
      "Percentage of Students with Distinction is: 33 %\n"
     ]
    }
   ],
   "source": [
    "def studentsWithDistinction(filename):\n",
    "    with open(filename,'r') as f:\n",
    "        filedata=f.read().split()\n",
    "        sum=0\n",
    "        total=0\n",
    "        for i in filedata:\n",
    "            total=total+int(i)\n",
    "            if int(i)>80:\n",
    "                sum=sum+int(i)\n",
    "        result=(sum/total)*100\n",
    "        print(\"Percentage of Students with Distinction is:\",int(result),'%')\n",
    "studentsWithDistinction(\"package/marks.txt\")"
   ]
  },
  {
   "cell_type": "code",
   "execution_count": 10,
   "metadata": {},
   "outputs": [
    {
     "name": "stdout",
     "output_type": "stream",
     "text": [
      "Highest Mark Frequency is 100 : 2\n"
     ]
    }
   ],
   "source": [
    "def highestMarkFreq(filename):\n",
    "    with open(filename,'r') as f:\n",
    "        filedata=f.read()\n",
    "        filedata=list(map(int,filedata.split()))\n",
    "        m=max(filedata)\n",
    "        f=filedata.count(m)\n",
    "        print(\"Highest Mark Frequency is\",m,':',f)\n",
    "highestMarkFreq(\"package/marks.txt\")"
   ]
  },
  {
   "cell_type": "code",
   "execution_count": 11,
   "metadata": {},
   "outputs": [
    {
     "name": "stdout",
     "output_type": "stream",
     "text": [
      "Lowest Mark Frequency is 0 : 6\n"
     ]
    }
   ],
   "source": [
    "def lowestMarkFreq(filename):\n",
    "    with open(filename,'r') as f:\n",
    "        filedata=f.read().split()\n",
    "        mi=min(filedata)\n",
    "        f=filedata.count(mi)\n",
    "        print(\"Lowest Mark Frequency is\",mi,':',f)\n",
    "lowestMarkFreq(\"package/marks.txt\")"
   ]
  },
  {
   "cell_type": "code",
   "execution_count": 13,
   "metadata": {},
   "outputs": [
    {
     "name": "stdout",
     "output_type": "stream",
     "text": [
      "2\n"
     ]
    }
   ],
   "source": [
    "import re\n",
    "def freq(filename):\n",
    "    with open(filename,'r') as f:\n",
    "        filedata=f.read()\n",
    "        s=re.findall('100',filedata)\n",
    "        print(len(s))\n",
    "freq(\"package/marks.txt\")"
   ]
  },
  {
   "cell_type": "code",
   "execution_count": 14,
   "metadata": {},
   "outputs": [
    {
     "name": "stdout",
     "output_type": "stream",
     "text": [
      "Average Marks of All n Students: 50.11\n",
      "Percentage of Students Passed is:  86 %\n",
      "Percentage of Students Failed is: 12 %\n",
      "Percentage of Students with Distinction is: 33 %\n",
      "Highest Mark Frequency is 100 : 2\n",
      "Lowest Mark Frequency is 0 : 6\n"
     ]
    }
   ],
   "source": [
    "def generateReport(filename):\n",
    "    classAverage(filename)\n",
    "    percentageOfStudPassed(filename)\n",
    "    percentageOfStudFailed(filename)\n",
    "    studentsWithDistinction(filename)\n",
    "    highestMarkFreq(filename)\n",
    "    lowestMarkFreq(filename)\n",
    "generateReport(\"package/marks.txt\")"
   ]
  },
  {
   "cell_type": "code",
   "execution_count": 17,
   "metadata": {},
   "outputs": [
    {
     "name": "stdout",
     "output_type": "stream",
     "text": [
      "\n",
      "\n",
      "                    @@@@@@@@@@@@@@@@MAIN MENU@@@@@@@@@@@@@@\n",
      "                      1: ClassAverage\n",
      "                      2: Percentage of Students Passed\n",
      "                      3: Percentage of Students Failed\n",
      "                      4: Students with Distinction\n",
      "                      5: Highest Mark Frequency\n",
      "                      6: Lowest Mark Frequency\n",
      "\n",
      "                      Please enter your choice: 1\n",
      "Average Marks of All n Students: 50.11\n",
      "\n",
      "                        1: Go to Main Menu\n",
      "                        0: Exit \n",
      "                        Please Enter your Option: 0\n",
      "\n",
      "*****Thank you******\n"
     ]
    }
   ],
   "source": [
    "def displayMenu(filename):\n",
    "    #print(\"************MAIN MENU**************\")\n",
    "    print()\n",
    "    \n",
    "    option = int(input(\"\"\"\n",
    "                    ## MAIN MENU ##\n",
    "                      1: ClassAverage\n",
    "                      2: Percentage of Students Passed\n",
    "                      3: Percentage of Students Failed\n",
    "                      4: Students with Distinction\n",
    "                      5: Highest Mark Frequency\n",
    "                      6: Lowest Mark Frequency\n",
    "\n",
    "                      Please enter your choice: \"\"\"))\n",
    "\n",
    "    if option==1:\n",
    "        classAverage(filename)\n",
    "    elif option==2:\n",
    "        percentageOfStudPassed(filename)\n",
    "    elif option==3:\n",
    "        percentageOfStudFailed(filename)\n",
    "    elif option==4:\n",
    "        studentsWithDistinction(filename)\n",
    "    elif option==5:\n",
    "        highestMarkFreq(filename)\n",
    "    elif option==6:\n",
    "        lowestMarkFreq(filename)\n",
    "    else:\n",
    "        print(\"Please try again\")\n",
    "        print(\"Good Bye.......!\")\n",
    "    again=int(input(\"\"\"\n",
    "                        1: Go to Main Menu\n",
    "                        0: Exit \n",
    "                        Please Enter your Option: \"\"\"))\n",
    "    if again==1:\n",
    "        displayMenu(filename)\n",
    "    else:\n",
    "        print()\n",
    "        print(\"*****Thank you******\")\n",
    "displayMenu(\"package/marks.txt\")"
   ]
  },
  {
   "cell_type": "code",
   "execution_count": null,
   "metadata": {},
   "outputs": [],
   "source": []
  },
  {
   "cell_type": "code",
   "execution_count": null,
   "metadata": {},
   "outputs": [],
   "source": []
  },
  {
   "cell_type": "code",
   "execution_count": 35,
   "metadata": {},
   "outputs": [
    {
     "name": "stdout",
     "output_type": "stream",
     "text": [
      "enter n value range:-1\n",
      "enter m value range:-10\n",
      "sum is:- 55\n",
      "no of digits 10\n",
      "avg is:- 5.0\n"
     ]
    }
   ],
   "source": [
    "def Average(n,m):\n",
    "    sum=0\n",
    "    c=0\n",
    "    for i in range(1,m+1):\n",
    "        sum=sum+i\n",
    "        c=c+1\n",
    "        avg=float(sum//c)\n",
    "    print(\"sum is:-\",sum)\n",
    "    print(\"no of digits\",c)\n",
    "    print(\"avg is:-\",avg)\n",
    "    return \n",
    "n=int(input('enter n value range:-'))\n",
    "m=int(input('enter m value range:-'))\n",
    "Average(n,m)"
   ]
  },
  {
   "cell_type": "code",
   "execution_count": null,
   "metadata": {},
   "outputs": [],
   "source": []
  },
  {
   "cell_type": "code",
   "execution_count": null,
   "metadata": {},
   "outputs": [],
   "source": [
    "#largest number in a list\n",
    "#second Largest number in a list\n",
    "#kth largest number in a list\n",
    "\n",
    "\n",
    "#element with highest frequency\n",
    "#second higest frequency\n",
    "#kth highest frequency\n",
    "\n",
    "\n",
    "#{a:4, g:9, i:6, p:213 c:6}\n",
    "#[4,6,6,9,213]\n"
   ]
  },
  {
   "cell_type": "code",
   "execution_count": 8,
   "metadata": {},
   "outputs": [
    {
     "data": {
      "text/plain": [
       "1"
      ]
     },
     "execution_count": 8,
     "metadata": {},
     "output_type": "execute_result"
    }
   ],
   "source": [
    "#Fumction to find second largest number in a list\n",
    "#o(n)\n",
    "\n",
    "def secondLargest(li):\n",
    "    #convert the list into a unique list\n",
    "    unique=[]\n",
    "    for n in li:\n",
    "        if n not in unique:\n",
    "            unique.append(n)\n",
    "    unique=sorted(unique,reverse=True)\n",
    "    return unique[1] \n",
    "secondLargest([1,2])\n",
    "\n",
    "\n",
    "\n",
    "#ef fifthLeast(li):\n",
    "\n",
    "#def KLargest(li,k)\n",
    "\n",
    "#def KSmallest(li,k)\n",
    "    "
   ]
  },
  {
   "cell_type": "code",
   "execution_count": null,
   "metadata": {},
   "outputs": [],
   "source": []
  },
  {
   "cell_type": "code",
   "execution_count": 9,
   "metadata": {},
   "outputs": [
    {
     "data": {
      "text/plain": [
       "5"
      ]
     },
     "execution_count": 9,
     "metadata": {},
     "output_type": "execute_result"
    }
   ],
   "source": [
    "##Write a function to find 5th least number in a list\n",
    "\n",
    "def fifthLeast(li):\n",
    "    #convert the list into a unique list\n",
    "    unique=[]\n",
    "    for n in li:\n",
    "        if n not in unique:\n",
    "            unique.append(n)\n",
    "    unique=sorted(unique,reverse=True)\n",
    "    return unique[-5] \n",
    "fifthLeast([1,2,3,4,5,6,7,8,9])\n"
   ]
  },
  {
   "cell_type": "code",
   "execution_count": null,
   "metadata": {},
   "outputs": [],
   "source": []
  },
  {
   "cell_type": "code",
   "execution_count": 12,
   "metadata": {},
   "outputs": [
    {
     "name": "stdout",
     "output_type": "stream",
     "text": [
      "3\n"
     ]
    },
    {
     "data": {
      "text/plain": [
       "7"
      ]
     },
     "execution_count": 12,
     "metadata": {},
     "output_type": "execute_result"
    }
   ],
   "source": [
    "##Write a function to KLargest in a list\n",
    "\n",
    "def KLargest(li):\n",
    "    #convert the list into a unique list\n",
    "    unique=[]\n",
    "    for n in li:\n",
    "        if n not in unique:\n",
    "            unique.append(n)\n",
    "    unique=sorted(unique,reverse=True)\n",
    "    if len(unique)>k:\n",
    "        return unique[k-1]\n",
    "    else:\n",
    "        return -1\n",
    "k=int(input())\n",
    "\n",
    "KLargest([1,2,3,4,5,6,7,8,9])"
   ]
  },
  {
   "cell_type": "code",
   "execution_count": 16,
   "metadata": {},
   "outputs": [
    {
     "name": "stdout",
     "output_type": "stream",
     "text": [
      "5\n"
     ]
    },
    {
     "data": {
      "text/plain": [
       "5"
      ]
     },
     "execution_count": 16,
     "metadata": {},
     "output_type": "execute_result"
    }
   ],
   "source": [
    "####Write a function to KSmallest in a list\n",
    "\n",
    "def KSmallest(li):\n",
    "    #convert the list into a unique list\n",
    "    unique=[]\n",
    "    for n in li:\n",
    "        if n not in unique:\n",
    "            unique.append(n)\n",
    "            \n",
    "    ##Sort the unique list in ascending order\n",
    "    unique=sorted(unique)\n",
    "    \n",
    "    ##Check if length of unique list is greater\n",
    "    if len(unique)>k:\n",
    "        return unique[k-1]\n",
    "    else:\n",
    "        return -1\n",
    "k=int(input())\n",
    "\n",
    "KSmallest([1,2,3,4,5,6,7,8,9])"
   ]
  },
  {
   "cell_type": "code",
   "execution_count": 8,
   "metadata": {},
   "outputs": [
    {
     "data": {
      "text/plain": [
       "1"
      ]
     },
     "execution_count": 8,
     "metadata": {},
     "output_type": "execute_result"
    }
   ],
   "source": [
    "###Write a function to identify the element with highest frequency in a list\n",
    "#If any elements have the the highest frequency element\n",
    "\n",
    "##highestFrequency([1,2,3,9,8,7,3,4,2,1])---->1\n",
    "\n",
    "def HighestFrequency(li):\n",
    "    #Extracting unique elements with \n",
    "    unique={}\n",
    "    for n in li:\n",
    "        if n in unique.keys():\n",
    "            unique[n] += 1\n",
    "        else:\n",
    "            unique[n]=1\n",
    "            \n",
    "            \n",
    "            #UNIQUE={1:2, 2:2, 3:2, 9:1, 8:1, }\n",
    "              \n",
    "    #Getting all frequencies into a list\n",
    "    freq=unique.values()\n",
    "    maxfreq=max(freq)\n",
    "    maxfreqE=[]\n",
    "    \n",
    "    ##Identify the keys with maximum frequency\n",
    "    for item in unique.items():\n",
    "        if item[1]==maxfreq:\n",
    "            maxfreqE.append(item[0])\n",
    "    #select the minimum from the keys with maximum\n",
    "    return min(maxfreqE)\n",
    "HighestFrequency([1,2,3,1,1,2])"
   ]
  },
  {
   "cell_type": "code",
   "execution_count": null,
   "metadata": {},
   "outputs": [],
   "source": [
    "#Function to identify second highest frequency element,\n",
    "#if there are manu such elements,return the smallest\n"
   ]
  },
  {
   "cell_type": "code",
   "execution_count": 10,
   "metadata": {},
   "outputs": [
    {
     "name": "stdout",
     "output_type": "stream",
     "text": [
      "2\n",
      "{1: 2, 2: 2, 3: 1, 4: 2, 9: 1}\n",
      "[1, 1, 2, 2, 2]\n"
     ]
    },
    {
     "data": {
      "text/plain": [
       "9"
      ]
     },
     "execution_count": 10,
     "metadata": {},
     "output_type": "execute_result"
    }
   ],
   "source": [
    "###Write a function to identify the element with second highest frequency in a list\n",
    "#If any elements have the the second highest frequency element\n",
    "\n",
    "##secondhighestFrequency(1,2,3,2,1,4,4,9)-->9\n",
    "\n",
    "def SecondHighestFrequency(li):\n",
    "    #Extracting unique elements with \n",
    "    unique={}\n",
    "    for n in li:\n",
    "        if n in unique.keys():\n",
    "            unique[n] += 1\n",
    "        else:\n",
    "            unique[n]=1\n",
    "    print(unique)\n",
    "    un=sorted(unique.values())\n",
    "    print(un)\n",
    "    unique2=[]\n",
    "    for n in un:\n",
    "        if n not in unique2:\n",
    "            unique2.append(n)\n",
    "    uv=unique2[-k]\n",
    "    maxkeys=[]\n",
    "    for item in unique.items():\n",
    "        if item[1]==uv:\n",
    "            maxkeys.append(item[0])\n",
    "    return max(maxkeys)\n",
    "k=int(input())\n",
    "SecondHighestFrequency([1,2,3,2,1,4,4,9])\n"
   ]
  },
  {
   "cell_type": "code",
   "execution_count": null,
   "metadata": {},
   "outputs": [],
   "source": []
  },
  {
   "cell_type": "code",
   "execution_count": 5,
   "metadata": {},
   "outputs": [
    {
     "name": "stdout",
     "output_type": "stream",
     "text": [
      "756\n",
      "3\n"
     ]
    }
   ],
   "source": [
    "s=int(input())\n",
    "c=0\n",
    "while(s!=0):\n",
    "    rem=s%10\n",
    "    s=s//10\n",
    "    c=c+1\n",
    "print(c)\n",
    "    "
   ]
  },
  {
   "cell_type": "code",
   "execution_count": 21,
   "metadata": {},
   "outputs": [
    {
     "name": "stdout",
     "output_type": "stream",
     "text": [
      "1 2 3\n",
      "2\n"
     ]
    }
   ],
   "source": [
    "s=input().split()\n",
    "x=int(s[0])\n",
    "y=int(s[1])\n",
    "z=int(s[2])\n",
    "b = x+y+z\n",
    "print(b//3)"
   ]
  },
  {
   "cell_type": "code",
   "execution_count": 1,
   "metadata": {},
   "outputs": [
    {
     "data": {
      "text/plain": [
       "[9]"
      ]
     },
     "execution_count": 1,
     "metadata": {},
     "output_type": "execute_result"
    }
   ],
   "source": [
    "\n",
    "#write a function to find highest frequency in a list \n",
    "\n",
    "def KHighestFrequency(s,k):\n",
    "    unique={}\n",
    "    for c in s:\n",
    "        if c not in unique:\n",
    "            unique[c]=1\n",
    "        else:\n",
    "            unique[c]+=1    \n",
    "    uniqfreq=[]\n",
    "    for value in unique.values():\n",
    "        if value not in uniqfreq:\n",
    "            uniqfreq.append(value)\n",
    "    \n",
    "    uniqfreq=sorted(uniqfreq,reverse=True)\n",
    "    kfreq=uniqfreq[k-1]\n",
    "    kfreqchar=[]\n",
    "    for key in unique.items():\n",
    "        if key[1]==kfreq:\n",
    "            kfreqchar.append(key[0])\n",
    "    return kfreqchar\n",
    "KHighestFrequency([9,8,7,6,5,2,3,4,9,6,7,7,7,6,7,6],3)"
   ]
  },
  {
   "cell_type": "code",
   "execution_count": null,
   "metadata": {},
   "outputs": [],
   "source": []
  }
 ],
 "metadata": {
  "kernelspec": {
   "display_name": "Python 3",
   "language": "python",
   "name": "python3"
  },
  "language_info": {
   "codemirror_mode": {
    "name": "ipython",
    "version": 3
   },
   "file_extension": ".py",
   "mimetype": "text/x-python",
   "name": "python",
   "nbconvert_exporter": "python",
   "pygments_lexer": "ipython3",
   "version": "3.7.3"
  }
 },
 "nbformat": 4,
 "nbformat_minor": 2
}
