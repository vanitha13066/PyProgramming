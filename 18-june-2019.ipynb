{
 "cells": [
  {
   "cell_type": "markdown",
   "metadata": {},
   "source": [
    "# Tuples\n",
    "\n",
    "    t1=()\n",
    "    li=[]\n",
    "\n",
    "\n",
    "Differnce between Lists and Tuples\n",
    "\n",
    "Lists are mutable-can be changed/modified\n",
    "- Used to access,modify,add,delete data\n",
    "\n",
    "Tuples are immutable-cannot be changed once initialised\n",
    "    -used to access data only\n",
    "    -All Slicing operations work"
   ]
  },
  {
   "cell_type": "code",
   "execution_count": 4,
   "metadata": {},
   "outputs": [
    {
     "data": {
      "text/plain": [
       "(8, 6, 0)"
      ]
     },
     "execution_count": 4,
     "metadata": {},
     "output_type": "execute_result"
    }
   ],
   "source": [
    "t1=(11,2,8,6,0)\n",
    "\n",
    "t1[3] #Accessing the 3rd element\n",
    "\n",
    "#Accessing All elements from middle to last\n",
    "t1[2:]\n"
   ]
  },
  {
   "cell_type": "code",
   "execution_count": 5,
   "metadata": {},
   "outputs": [
    {
     "data": {
      "text/plain": [
       "tuple"
      ]
     },
     "execution_count": 5,
     "metadata": {},
     "output_type": "execute_result"
    }
   ],
   "source": [
    "\n",
    "type(t1)\n"
   ]
  },
  {
   "cell_type": "code",
   "execution_count": null,
   "metadata": {},
   "outputs": [],
   "source": []
  },
  {
   "cell_type": "markdown",
   "metadata": {},
   "source": [
    "## Dictionaries\n",
    "\n",
    "\n",
    "It works on the concept of sets\n",
    "    *Unique data\n",
    "\n",
    "\n",
    "Key,values\n",
    "Key is the unique Identifier for a value\n",
    "Value is data that can be accessed with a key\n",
    "\n"
   ]
  },
  {
   "cell_type": "code",
   "execution_count": 21,
   "metadata": {},
   "outputs": [
    {
     "data": {
      "text/plain": [
       "dict_keys(['k1', 'k2'])"
      ]
     },
     "execution_count": 21,
     "metadata": {},
     "output_type": "execute_result"
    }
   ],
   "source": [
    "d1={\"k1\":\"value\",\"k2\":\"value2\"}\n",
    "\n",
    "d1[\"k2\"] ##Accessing the value with key \"k2\"\n",
    "d1.keys() ##Returns list of all keys\n",
    "d1.values() ##Returns list of all values\n",
    "d1.items()  ##Returns list of  tuples of keys and values\n",
    "d1[\"k3\"]=\"value3\" ##Adding an element to the Dictionary\n",
    "d1\n",
    "\n",
    "d1[\"k3\"]=\"value4\" ##Updating an element\n",
    "d1.pop(\"k3\")##Removing an element using pop\n",
    "\n",
    "\n",
    "##SEARCH OPERATION\n",
    "\"k1\" in d1\n",
    "d1\n",
    "\"value1\" in d1\n",
    "\"k2\" in d1\n",
    "d1.keys() ##Returns list of all keys\n",
    "\n"
   ]
  },
  {
   "cell_type": "code",
   "execution_count": null,
   "metadata": {},
   "outputs": [],
   "source": [
    "##Contacts Application\n",
    "\n",
    "-Add Contact\n",
    "-Search for contacts\n",
    "-List all contacts\n",
    "    -name1: phone1\n",
    "    -name2: phone2\n",
    "    -name 3: phone 3\n",
    "-Modify contact\n",
    "-Remove contact\n",
    "\n",
    "\n",
    "\n",
    "\n"
   ]
  },
  {
   "cell_type": "code",
   "execution_count": 2,
   "metadata": {},
   "outputs": [
    {
     "name": "stdout",
     "output_type": "stream",
     "text": [
      "contact name4 added\n"
     ]
    }
   ],
   "source": [
    "\n",
    "\n",
    "def addContact(name,phone):\n",
    "    #verify that the contact does not already exist \n",
    "    if name not in contacts:\n",
    "        contacts[name]=phone\n",
    "        print(\"contact %s added\" %name)\n",
    "    else:\n",
    "        print(\"Contact %s already exists\" %name)\n",
    "    return \n",
    "\n",
    "addContact(\"name4\",\"34573985038585\")\n",
    "\n",
    "    "
   ]
  },
  {
   "cell_type": "code",
   "execution_count": 3,
   "metadata": {},
   "outputs": [
    {
     "name": "stdout",
     "output_type": "stream",
     "text": [
      "name10 does not exist\n"
     ]
    }
   ],
   "source": [
    "def searchContacts(name):\n",
    "    if name in contacts:\n",
    "        print(name,\":\",contacts[name])\n",
    "    else:\n",
    "        print(\"%s does not exist\" %name)\n",
    "    return \n",
    "searchContacts(\"name10\")"
   ]
  },
  {
   "cell_type": "code",
   "execution_count": 6,
   "metadata": {},
   "outputs": [
    {
     "name": "stdout",
     "output_type": "stream",
     "text": [
      "name4 : 34573985038585\n",
      "name2 : 56883939\n",
      "name3 : 57834939\n"
     ]
    }
   ],
   "source": [
    "def ListAllContacts():\n",
    "    for i,j in contacts.items():\n",
    "        print(i,\":\",j)\n",
    "    return\n",
    "ListAllContacts()"
   ]
  },
  {
   "cell_type": "code",
   "execution_count": 5,
   "metadata": {},
   "outputs": [
    {
     "name": "stdout",
     "output_type": "stream",
     "text": [
      "2 added successfully\n"
     ]
    }
   ],
   "source": [
    "##New contact is given in dictionary\n",
    "\n",
    "\n",
    "def importContacts(newContacts):\n",
    "    contacts.update(newContacts)\n",
    "    print(len(newContacts.keys()),\"added successfully\")\n",
    "    return\n",
    "newContacts={\"name2\":56883939,\"name3\":57834939}\n",
    "importContacts(newContacts)\n",
    "    "
   ]
  },
  {
   "cell_type": "code",
   "execution_count": 7,
   "metadata": {},
   "outputs": [
    {
     "data": {
      "text/plain": [
       "{'name4': '34573985038585', 'name2': 56883939, 'name3': 57834939}"
      ]
     },
     "execution_count": 7,
     "metadata": {},
     "output_type": "execute_result"
    }
   ],
   "source": [
    "contacts"
   ]
  },
  {
   "cell_type": "markdown",
   "metadata": {},
   "source": [
    "# Packages and Modules\n",
    "\n",
    "PACKAGE:---> Collection of Modules(Python File.py) and subpackages\n",
    "\n",
    "MODULE:----> A Single python file containing functions\n",
    "\n",
    "PACKAGE-->Subpackages-->Modules-->Functions\n",
    "\n"
   ]
  },
  {
   "cell_type": "code",
   "execution_count": 10,
   "metadata": {},
   "outputs": [
    {
     "data": {
      "text/plain": [
       "3.141592653589793"
      ]
     },
     "execution_count": 10,
     "metadata": {},
     "output_type": "execute_result"
    }
   ],
   "source": [
    "import math\n",
    "\n",
    "math.floor(123.456)\n",
    "math.pi"
   ]
  },
  {
   "cell_type": "code",
   "execution_count": 11,
   "metadata": {},
   "outputs": [
    {
     "data": {
      "text/plain": [
       "123"
      ]
     },
     "execution_count": 11,
     "metadata": {},
     "output_type": "execute_result"
    }
   ],
   "source": [
    "from math import floor\n",
    "\n",
    "math.floor(123.456)\n",
    "#math.pi"
   ]
  },
  {
   "cell_type": "code",
   "execution_count": 12,
   "metadata": {},
   "outputs": [
    {
     "data": {
      "text/plain": [
       "123"
      ]
     },
     "execution_count": 12,
     "metadata": {},
     "output_type": "execute_result"
    }
   ],
   "source": [
    "from math import floor as fl\n",
    "fl(123.456)"
   ]
  },
  {
   "cell_type": "code",
   "execution_count": 14,
   "metadata": {},
   "outputs": [
    {
     "data": {
      "text/plain": [
       "7"
      ]
     },
     "execution_count": 14,
     "metadata": {},
     "output_type": "execute_result"
    }
   ],
   "source": [
    "###Function to generate random numbers\n",
    "\n",
    "import random\n",
    "\n",
    "#def generateNRandomNumbers(n):\n",
    "\n",
    "\n",
    "random.randint(0,15)\n",
    "    \n",
    "    \n",
    "    "
   ]
  },
  {
   "cell_type": "code",
   "execution_count": 17,
   "metadata": {},
   "outputs": [
    {
     "name": "stdout",
     "output_type": "stream",
     "text": [
      "6 53 42 45 43 15 27 44 59 20 "
     ]
    }
   ],
   "source": [
    "###Function to generate N random numbers\n",
    "\n",
    "import random\n",
    "\n",
    "def generateNRandomNumbers(n,lb,ub):\n",
    "    for i in range(0,n):\n",
    "        print(random.randint(lb,ub),end=\" \")\n",
    "        \n",
    "\n",
    "\n",
    "generateNRandomNumbers(10,0,100)\n",
    "    \n",
    "    \n",
    "    "
   ]
  },
  {
   "cell_type": "code",
   "execution_count": null,
   "metadata": {},
   "outputs": [],
   "source": []
  },
  {
   "cell_type": "code",
   "execution_count": null,
   "metadata": {},
   "outputs": [],
   "source": []
  },
  {
   "cell_type": "code",
   "execution_count": null,
   "metadata": {},
   "outputs": [],
   "source": []
  },
  {
   "cell_type": "code",
   "execution_count": null,
   "metadata": {},
   "outputs": [],
   "source": []
  },
  {
   "cell_type": "code",
   "execution_count": null,
   "metadata": {},
   "outputs": [],
   "source": []
  },
  {
   "cell_type": "code",
   "execution_count": null,
   "metadata": {},
   "outputs": [],
   "source": []
  }
 ],
 "metadata": {
  "kernelspec": {
   "display_name": "Python 3",
   "language": "python",
   "name": "python3"
  },
  "language_info": {
   "codemirror_mode": {
    "name": "ipython",
    "version": 3
   },
   "file_extension": ".py",
   "mimetype": "text/x-python",
   "name": "python",
   "nbconvert_exporter": "python",
   "pygments_lexer": "ipython3",
   "version": "3.7.3"
  }
 },
 "nbformat": 4,
 "nbformat_minor": 2
}
