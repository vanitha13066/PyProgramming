{
 "cells": [
  {
   "cell_type": "markdown",
   "metadata": {},
   "source": [
    "## files in python\n",
    "\n",
    "    * To store the digital information\n",
    "    * To work with files in python mainly 3 steps"
   ]
  },
  {
   "cell_type": "code",
   "execution_count": null,
   "metadata": {},
   "outputs": [],
   "source": [
    "## open a file with read operation\n",
    "\n",
    "\n",
    "fh=open('book.txt','r')\n",
    "\n",
    "data=fh.read()\n",
    "print(data)\n",
    "fh.close()"
   ]
  },
  {
   "cell_type": "code",
   "execution_count": null,
   "metadata": {},
   "outputs": [],
   "source": [
    "## write a file \n",
    "\n",
    "fh=open('book2.txt','w')\n",
    "\n",
    "data=\"hi hello\"\n",
    "\n",
    "fh.write(data)\n",
    "\n",
    "fh.close()"
   ]
  },
  {
   "cell_type": "code",
   "execution_count": null,
   "metadata": {},
   "outputs": [],
   "source": [
    "## write a file \n",
    "\n",
    "fh=open('book2.txt','w')\n",
    "\n",
    "data=\"who are you\"\n",
    "\n",
    "fh.write(data)\n",
    "\n",
    "fh.close()"
   ]
  },
  {
   "cell_type": "code",
   "execution_count": null,
   "metadata": {},
   "outputs": [],
   "source": [
    "## Append mode\n",
    "\n",
    "\n",
    "fh=open('book2.txt','a')\n",
    "\n",
    "data='hiiii everyone'\n",
    "fh.write(data)\n",
    "fh.close()"
   ]
  },
  {
   "cell_type": "code",
   "execution_count": null,
   "metadata": {},
   "outputs": [],
   "source": []
  },
  {
   "cell_type": "code",
   "execution_count": null,
   "metadata": {},
   "outputs": [],
   "source": [
    "fh=open('book.txt','r')\n",
    "for each in fh:\n",
    "    print(each)\n",
    "\n",
    "fh.close()"
   ]
  },
  {
   "cell_type": "code",
   "execution_count": null,
   "metadata": {},
   "outputs": [],
   "source": [
    "## line numbers with data\n",
    "\n",
    "\n",
    "fh=open('book.txt','r')\n",
    "i=1\n",
    "for each in fh:\n",
    "    print(i,each)\n",
    "    i=i+1 \n",
    "    \n",
    "\n",
    "fh.close()"
   ]
  },
  {
   "cell_type": "code",
   "execution_count": null,
   "metadata": {},
   "outputs": [],
   "source": [
    "## print only 3rd line\n",
    "\n",
    "\n",
    "fh=open('book.txt','r')\n",
    "i=1\n",
    "for each in fh:\n",
    "    #print(i,each)\n",
    "    i=i+1 \n",
    "    if i==3:\n",
    "        print(i,each)\n",
    "    \n",
    "\n",
    "fh.close()"
   ]
  },
  {
   "cell_type": "code",
   "execution_count": null,
   "metadata": {},
   "outputs": [],
   "source": [
    "## write the content form book.txt to output using python file concept\n",
    "\n",
    "\n",
    "# reading data from book.txt\n",
    "fh=open('book.txt','r')\n",
    "data=fh.read()\n",
    "fh.close()\n",
    "\n",
    "## writing book data to output.txt\n",
    "fh=open('output.txt','w')\n",
    "fh.write(data)\n",
    "\n",
    "fh.close()\n",
    "\n"
   ]
  },
  {
   "cell_type": "code",
   "execution_count": null,
   "metadata": {},
   "outputs": [],
   "source": [
    "fh=open('output.txt','r')\n",
    "#fh.write(data)\n",
    "i=1\n",
    "for each in fh:\n",
    "    print(i,each)\n",
    "    i=i+1\n",
    "fh.close()\n",
    "\n"
   ]
  },
  {
   "cell_type": "code",
   "execution_count": null,
   "metadata": {},
   "outputs": [],
   "source": [
    "fh = open('book.txt','r')\n",
    "of = open('output.txt','w')\n",
    "for line in fh:\n",
    "    line = line.split()\n",
    "    of.write(line[0]+'\\n')\n",
    "\n",
    "fh.close()\n",
    "of.close()\n"
   ]
  },
  {
   "cell_type": "code",
   "execution_count": null,
   "metadata": {},
   "outputs": [],
   "source": [
    "## another way of line 0\n",
    "\n",
    "fh = open('book.txt','r')\n",
    "of = open('output.txt','w')\n",
    "for line in fh:\n",
    "    word=line.split()[0]+'\\n'\n",
    "    of.write(word)\n",
    "fh.close()\n",
    "of.close()\n"
   ]
  },
  {
   "cell_type": "code",
   "execution_count": null,
   "metadata": {},
   "outputs": [],
   "source": [
    "\n",
    "fh = open('book.txt','r')\n",
    "of = open('output.txt','w')\n",
    "for line in fh:\n",
    "    #r=names\n",
    "    v=marks\n",
    "    sum=0\n",
    "    line=line.split()\n",
    "    marks=sum+v[1]+v[2]+v[3]\n",
    "    of.write(v)\n",
    "fh.close()\n",
    "of.close()\n"
   ]
  },
  {
   "cell_type": "code",
   "execution_count": 4,
   "metadata": {},
   "outputs": [
    {
     "name": "stdout",
     "output_type": "stream",
     "text": [
      "sai   80  70  60\n",
      "\n",
      "ravi  70  60  70\n",
      "\n",
      "sasi  60  60  60\n",
      "\n",
      "ravali 59 79  45\n"
     ]
    }
   ],
   "source": [
    "fh = open('book.txt','r')\n",
    "of = open('output.txt','w')\n",
    "count=0\n",
    "for line in fh:\n",
    "    count=count+1\n",
    "    if count==1:\n",
    "        continue\n",
    "    name=line.split()[0]\n",
    "    print(line)\n",
    "    marks=sum(list(map(int,line.split()[1:])))\n",
    "    of.write(name+' '+str(marks)+'\\n')\n",
    "fh.close()\n",
    "of.close()\n",
    "\n",
    "                                             "
   ]
  },
  {
   "cell_type": "code",
   "execution_count": 12,
   "metadata": {},
   "outputs": [],
   "source": [
    "fh = open('book.txt','r')\n",
    "of = open('output.txt','w')\n",
    "count=0\n",
    "for line in fh:\n",
    "    count+=1\n",
    "    if count==1:\n",
    "        of.write(line.strip()+'\\ttotal')\n",
    "    else:\n",
    "        marks=sum(list(map(int,line.split()[1:])))\n",
    "        of.write('\\n'+line.strip()+'\\t'+str(marks))     \n",
    "fh.close()\n",
    "of.close()"
   ]
  },
  {
   "cell_type": "code",
   "execution_count": 15,
   "metadata": {},
   "outputs": [
    {
     "name": "stdout",
     "output_type": "stream",
     "text": [
      "['sai   80  70  60\\t210\\n', 'ravi  70  60  70\\t200\\n', 'sasi  60  60  60\\t180\\n', 'ravali 59 79  45\\t183']\n"
     ]
    }
   ],
   "source": [
    "#### READLINE\n",
    "\n",
    "\n",
    "fh=open('output.txt','r')\n",
    "data=fh.readline()\n",
    "data=fh.readlines()\n",
    "print(data)\n",
    "\n",
    "fh.close()"
   ]
  },
  {
   "cell_type": "code",
   "execution_count": 16,
   "metadata": {},
   "outputs": [
    {
     "name": "stdout",
     "output_type": "stream",
     "text": [
      "32\n",
      "76\n",
      "89\n",
      "EXIT\n",
      "32 76  \n",
      "76\n"
     ]
    }
   ],
   "source": [
    "li=[]\n",
    "while(True):\n",
    "    n=input()\n",
    "    if(n=='EXIT'):\n",
    "        break\n",
    "    else:\n",
    "        if(int(n)%2==0):\n",
    "            li.append(int(n))\n",
    "for i in li:\n",
    "    print(i,end=' ')\n",
    "print(' ')\n",
    "print(max(li))\n"
   ]
  },
  {
   "cell_type": "code",
   "execution_count": null,
   "metadata": {},
   "outputs": [],
   "source": []
  },
  {
   "cell_type": "code",
   "execution_count": null,
   "metadata": {},
   "outputs": [],
   "source": []
  },
  {
   "cell_type": "code",
   "execution_count": 19,
   "metadata": {},
   "outputs": [
    {
     "name": "stdout",
     "output_type": "stream",
     "text": [
      "van\n"
     ]
    },
    {
     "ename": "TypeError",
     "evalue": "'list' object is not callable",
     "output_type": "error",
     "traceback": [
      "\u001b[1;31m---------------------------------------------------------------------------\u001b[0m",
      "\u001b[1;31mTypeError\u001b[0m                                 Traceback (most recent call last)",
      "\u001b[1;32m<ipython-input-19-a4e4e1924daa>\u001b[0m in \u001b[0;36m<module>\u001b[1;34m\u001b[0m\n\u001b[0;32m      3\u001b[0m \u001b[1;32mfor\u001b[0m \u001b[0mi\u001b[0m \u001b[1;32min\u001b[0m \u001b[0ms\u001b[0m\u001b[1;33m:\u001b[0m\u001b[1;33m\u001b[0m\u001b[1;33m\u001b[0m\u001b[0m\n\u001b[0;32m      4\u001b[0m     \u001b[0mli\u001b[0m\u001b[1;33m.\u001b[0m\u001b[0mappend\u001b[0m\u001b[1;33m(\u001b[0m\u001b[0mi\u001b[0m\u001b[1;33m)\u001b[0m\u001b[1;33m\u001b[0m\u001b[1;33m\u001b[0m\u001b[0m\n\u001b[1;32m----> 5\u001b[1;33m \u001b[0mprint\u001b[0m\u001b[1;33m(\u001b[0m\u001b[0mli\u001b[0m\u001b[1;33m(\u001b[0m\u001b[0mi\u001b[0m\u001b[1;33m)\u001b[0m\u001b[1;33m)\u001b[0m\u001b[1;33m\u001b[0m\u001b[1;33m\u001b[0m\u001b[0m\n\u001b[0m",
      "\u001b[1;31mTypeError\u001b[0m: 'list' object is not callable"
     ]
    }
   ],
   "source": [
    "li=[]\n",
    "s=input()\n",
    "for i in s:\n",
    "    li.append(i)\n",
    "print(li(i))"
   ]
  },
  {
   "cell_type": "code",
   "execution_count": null,
   "metadata": {},
   "outputs": [],
   "source": []
  },
  {
   "cell_type": "code",
   "execution_count": null,
   "metadata": {},
   "outputs": [],
   "source": []
  },
  {
   "cell_type": "code",
   "execution_count": null,
   "metadata": {},
   "outputs": [],
   "source": []
  },
  {
   "cell_type": "code",
   "execution_count": null,
   "metadata": {},
   "outputs": [],
   "source": []
  }
 ],
 "metadata": {
  "kernelspec": {
   "display_name": "Python 3",
   "language": "python",
   "name": "python3"
  },
  "language_info": {
   "codemirror_mode": {
    "name": "ipython",
    "version": 3
   },
   "file_extension": ".py",
   "mimetype": "text/x-python",
   "name": "python",
   "nbconvert_exporter": "python",
   "pygments_lexer": "ipython3",
   "version": "3.7.3"
  }
 },
 "nbformat": 4,
 "nbformat_minor": 2
}
