{
 "cells": [
  {
   "cell_type": "markdown",
   "metadata": {},
   "source": [
    "# Day Objectives\n",
    "\n",
    "# 22-june-2019\n",
    "\n",
    "\n",
    "-File Handling\n",
    "    -Basic File Data Processing\n",
    "        -Accessing  and modifying File Data\n",
    "    -Character Count\n",
    "    -Line Count\n",
    "    -File Size\n",
    "    -Word Count\n",
    "    -Unique Word Count"
   ]
  },
  {
   "cell_type": "code",
   "execution_count": 5,
   "metadata": {},
   "outputs": [
    {
     "name": "stdout",
     "output_type": "stream",
     "text": [
      "new data\n",
      "line2\n",
      "line3\n",
      "line4\n"
     ]
    }
   ],
   "source": [
    "##Read  a File-File should exist(Read Mode)\n",
    "## Write to a File-Existing(append) or New File(Write Mode)\n",
    "\n",
    "\n",
    "def readFile(filepath):\n",
    "    with open(filepath,'r') as f:\n",
    "        filedata=f.read()\n",
    "        #print(type(f))\n",
    "    return filedata\n",
    "\n",
    "filepath=\"../APSSDC-Python-Programming-June-2019/Data Files/data.txt\"\n",
    "\n",
    "print(readFile(filepath))\n"
   ]
  },
  {
   "cell_type": "code",
   "execution_count": null,
   "metadata": {},
   "outputs": [],
   "source": []
  },
  {
   "cell_type": "code",
   "execution_count": 8,
   "metadata": {},
   "outputs": [
    {
     "ename": "FileNotFoundError",
     "evalue": "[Errno 2] No such file or directory: 'data1.txt'",
     "output_type": "error",
     "traceback": [
      "\u001b[1;31m---------------------------------------------------------------------------\u001b[0m",
      "\u001b[1;31mFileNotFoundError\u001b[0m                         Traceback (most recent call last)",
      "\u001b[1;32m<ipython-input-8-ab323d56cce0>\u001b[0m in \u001b[0;36m<module>\u001b[1;34m\u001b[0m\n\u001b[1;32m----> 1\u001b[1;33m \u001b[0mf\u001b[0m \u001b[1;33m=\u001b[0m \u001b[0mopen\u001b[0m\u001b[1;33m(\u001b[0m\u001b[1;34m\"data1.txt\"\u001b[0m\u001b[1;33m)\u001b[0m    \u001b[1;31m# open file in current directory\u001b[0m\u001b[1;33m\u001b[0m\u001b[1;33m\u001b[0m\u001b[0m\n\u001b[0m\u001b[0;32m      2\u001b[0m \u001b[0mf\u001b[0m \u001b[1;33m=\u001b[0m \u001b[0mopen\u001b[0m\u001b[1;33m(\u001b[0m\u001b[1;34m\"C:/Users/IIIT-rgukt/Desktop/APSSDC-Python-Programming-June-2019/Data Files/data1.txt\"\u001b[0m\u001b[1;33m)\u001b[0m  \u001b[1;31m# specifying full path\u001b[0m\u001b[1;33m\u001b[0m\u001b[1;33m\u001b[0m\u001b[0m\n",
      "\u001b[1;31mFileNotFoundError\u001b[0m: [Errno 2] No such file or directory: 'data1.txt'"
     ]
    }
   ],
   "source": [
    "f = open(\"data1.txt\")    # open file in current directory\n",
    "f = open(\"C:/Users/IIIT-rgukt/Desktop/APSSDC-Python-Programming-June-2019/Data Files/data1.txt\")  # specifying full path"
   ]
  },
  {
   "cell_type": "code",
   "execution_count": 10,
   "metadata": {},
   "outputs": [
    {
     "name": "stdout",
     "output_type": "stream",
     "text": [
      "my name is vanitha\n"
     ]
    }
   ],
   "source": [
    "\n",
    "#function to read a file\n",
    "\n",
    "def readFile(filename):\n",
    "    f=open(filename, 'r')\n",
    "    filedata=f.read()\n",
    "    f.close()\n",
    "    return filedata\n",
    "\n",
    "filename=\"../APSSDC-Python-Programming-June-2019/Data Files/data1.txt\"\n",
    "filedata=readFile(filename)\n",
    "for line in filedata.split('\\n'):\n",
    "    print(line)\n",
    "\n"
   ]
  },
  {
   "cell_type": "code",
   "execution_count": 5,
   "metadata": {},
   "outputs": [
    {
     "name": "stdout",
     "output_type": "stream",
     "text": [
      "4\n",
      "18\n",
      "1\n"
     ]
    }
   ],
   "source": [
    "###COUNT THE NO OF CHARACTERS\n",
    "\n",
    "\n",
    "filename=\"../APSSDC-Python-Programming-June-2019/Data Files/data1.txt\"\n",
    "words=0\n",
    "characters=0\n",
    "lines=0\n",
    "with open(filename,'r') as file:\n",
    "    for line in file:\n",
    "        wordslist=line.split()\n",
    "        lines=lines+1\n",
    "        words=words+len(wordslist)\n",
    "        characters=characters+len(line)\n",
    "\n",
    "print(words)\n",
    "print(characters)\n",
    "print(lines)\n",
    "        \n"
   ]
  },
  {
   "cell_type": "code",
   "execution_count": 18,
   "metadata": {},
   "outputs": [
    {
     "name": "stdout",
     "output_type": "stream",
     "text": [
      "Enter the name of the file:data1.txt\n"
     ]
    },
    {
     "ename": "FileNotFoundError",
     "evalue": "[Errno 2] No such file or directory: 'data1.txt'",
     "output_type": "error",
     "traceback": [
      "\u001b[1;31m---------------------------------------------------------------------------\u001b[0m",
      "\u001b[1;31mFileNotFoundError\u001b[0m                         Traceback (most recent call last)",
      "\u001b[1;32m<ipython-input-18-e778020acdee>\u001b[0m in \u001b[0;36m<module>\u001b[1;34m\u001b[0m\n\u001b[0;32m      1\u001b[0m \u001b[0mfname\u001b[0m \u001b[1;33m=\u001b[0m \u001b[0minput\u001b[0m\u001b[1;33m(\u001b[0m\u001b[1;34m\"Enter the name of the file:\"\u001b[0m\u001b[1;33m)\u001b[0m\u001b[1;33m\u001b[0m\u001b[1;33m\u001b[0m\u001b[0m\n\u001b[1;32m----> 2\u001b[1;33m \u001b[0minfile\u001b[0m \u001b[1;33m=\u001b[0m \u001b[0mopen\u001b[0m\u001b[1;33m(\u001b[0m\u001b[0mfname\u001b[0m\u001b[1;33m,\u001b[0m \u001b[1;34m'r'\u001b[0m\u001b[1;33m)\u001b[0m\u001b[1;33m\u001b[0m\u001b[1;33m\u001b[0m\u001b[0m\n\u001b[0m\u001b[0;32m      3\u001b[0m \u001b[0mlines\u001b[0m \u001b[1;33m=\u001b[0m \u001b[1;36m0\u001b[0m\u001b[1;33m\u001b[0m\u001b[1;33m\u001b[0m\u001b[0m\n\u001b[0;32m      4\u001b[0m \u001b[0mwords\u001b[0m \u001b[1;33m=\u001b[0m \u001b[1;36m0\u001b[0m\u001b[1;33m\u001b[0m\u001b[1;33m\u001b[0m\u001b[0m\n\u001b[0;32m      5\u001b[0m \u001b[0mcharacters\u001b[0m \u001b[1;33m=\u001b[0m \u001b[1;36m0\u001b[0m\u001b[1;33m\u001b[0m\u001b[1;33m\u001b[0m\u001b[0m\n",
      "\u001b[1;31mFileNotFoundError\u001b[0m: [Errno 2] No such file or directory: 'data1.txt'"
     ]
    }
   ],
   "source": [
    "fname = input(\"Enter the name of the file:\")\n",
    "infile = open(fname, 'r')\n",
    "lines = 0\n",
    "words = 0\n",
    "characters = 0\n",
    "for line in infile:\n",
    "    wordslist = line.split()\n",
    "    lines = lines + 1\n",
    "    words = words + len(wordslist)\n",
    "    characters = characters + len(line)\n",
    "print(lines)\n",
    "print(words)\n",
    "print(characters)"
   ]
  },
  {
   "cell_type": "code",
   "execution_count": null,
   "metadata": {},
   "outputs": [],
   "source": []
  },
  {
   "cell_type": "code",
   "execution_count": null,
   "metadata": {},
   "outputs": [],
   "source": []
  },
  {
   "cell_type": "code",
   "execution_count": null,
   "metadata": {},
   "outputs": [],
   "source": [
    "filename=\"../APSSDC-Python-Programming-June-2019/Data Files/data1.txt\"\n",
    "numChar=0\n",
    "numWords=0\n",
    "with open(filename,'r') as file:\n",
    "    for line in file:\n",
    "        wordsList=line.split()\n",
    "        numWords+=len(wordsList)\n",
    "        numChar+=len(line)\n",
    "\n",
    "print(\"numChar: \")\n",
    "print(\"numWords: %i\\n\")\n",
    "        \n"
   ]
  },
  {
   "cell_type": "code",
   "execution_count": 16,
   "metadata": {},
   "outputs": [
    {
     "name": "stdout",
     "output_type": "stream",
     "text": [
      "4\n",
      "18\n",
      "1\n"
     ]
    }
   ],
   "source": [
    "#### COUNT THE NO OF LINES AND WORDS AND CHARACTERS \n",
    "\n",
    "\n",
    "\n",
    "filename=\"../APSSDC-Python-Programming-June-2019/Data Files/data1.txt\"\n",
    "words=0\n",
    "lines=0\n",
    "characters=0\n",
    "with open(filename,'r') as file:\n",
    "    for line in file:\n",
    "        wordslist=line.split()\n",
    "        lines=lines+1\n",
    "        words=words+len(wordslist)\n",
    "        characters=characters+len(line)\n",
    "\n",
    "print(words)\n",
    "print(characters)\n",
    "print(lines)\n",
    "        \n"
   ]
  },
  {
   "cell_type": "code",
   "execution_count": 25,
   "metadata": {},
   "outputs": [
    {
     "name": "stdout",
     "output_type": "stream",
     "text": [
      "2\n",
      "vanitha\n",
      "87583758393\n",
      "vanitha@gmail.com\n",
      "ruthu\n",
      "857858945789358\n",
      "ruthu@gmail.com\n"
     ]
    },
    {
     "data": {
      "text/plain": [
       "{'vanitha': ['87583758393', 'vanitha@gmail.com'],\n",
       " 'ruthu': ['857858945789358', 'ruthu@gmail.com']}"
      ]
     },
     "execution_count": 25,
     "metadata": {},
     "output_type": "execute_result"
    }
   ],
   "source": [
    "### CONTACT APPLICATION\n",
    "\n",
    "\n",
    "contact={}\n",
    "def addContact():\n",
    "    contact={}  ##empty directiory\n",
    "    n=int(input())\n",
    "    for record in range(n):\n",
    "        name=input()\n",
    "        mobile=input()\n",
    "        email=input()\n",
    "        contact[name]=[mobile,email]\n",
    "    return contact\n",
    "addContact()\n"
   ]
  },
  {
   "cell_type": "code",
   "execution_count": 5,
   "metadata": {},
   "outputs": [],
   "source": [
    "### CONTACT APPLICATION\n",
    "\n",
    "\n",
    "contact={}\n",
    "def addContact():\n",
    "    contact={}  ##empty directiory\n",
    "    n=int(input())\n",
    "    for record in range(n):\n",
    "        name=input()\n",
    "        mobile=input()\n",
    "        email=input()\n",
    "        contact[name]=[mobile,email]\n",
    "    with open(\"contact.txt\",\"w\") as data:\n",
    "        for user in contact.items():\n",
    "            data.write(user[0]+\",\"+user[1][0]+\",\"+user[1][1]+\"\\n\")\n",
    "    return \"data added successfully...!\"     \n",
    "            \n"
   ]
  },
  {
   "cell_type": "code",
   "execution_count": 6,
   "metadata": {},
   "outputs": [
    {
     "name": "stdout",
     "output_type": "stream",
     "text": [
      "2\n",
      "vanitha\n",
      "84758947584\n",
      "vanitha@gmail.com\n",
      "ruthu\n",
      "378937589375\n",
      "ruthu@gmail.com\n"
     ]
    },
    {
     "data": {
      "text/plain": [
       "'data added successfully...!'"
      ]
     },
     "execution_count": 6,
     "metadata": {},
     "output_type": "execute_result"
    },
    {
     "data": {
      "text/plain": [
       "'data added successfully...!'"
      ]
     },
     "execution_count": 6,
     "metadata": {},
     "output_type": "execute_result"
    }
   ],
   "source": [
    "addContact()"
   ]
  },
  {
   "cell_type": "code",
   "execution_count": 1,
   "metadata": {},
   "outputs": [
    {
     "name": "stdout",
     "output_type": "stream",
     "text": [
      "contact.txt\n",
      "enter user namepavani\n"
     ]
    }
   ],
   "source": [
    "def modifyContacts(filename):\n",
    "    updated_data={}\n",
    "    name=input('enter user name')\n",
    "    with open(filename,'r') as f:\n",
    "        for line in f:\n",
    "            line=line.strip(',')\n",
    "            if name in line:\n",
    "                mobile=input('enter mobile number')\n",
    "                email=input('enter email')\n",
    "                line[1]=mobile\n",
    "                line[2]=email\n",
    "                updated_data[line[0]]=[line[1],line[2]]\n",
    "            else:\n",
    "                updated_data[line[0]]=[line[1],line[2]]\n",
    "                continue\n",
    "\n",
    "    with open(filename,'w') as info:\n",
    "        for user in updated_data.items():\n",
    "            info.write(user[0]+\",\"+user[1][0]+\",\"+user[1][1]+\"\\n\")\n",
    "            \n",
    "            \n",
    "            \n",
    "    \n",
    "    \n",
    "filename=input()\n",
    "modifyContacts(filename)"
   ]
  },
  {
   "cell_type": "code",
   "execution_count": 5,
   "metadata": {},
   "outputs": [
    {
     "name": "stdout",
     "output_type": "stream",
     "text": [
      "contact.txt\n",
      "enter user namepavani'\n"
     ]
    }
   ],
   "source": [
    "def modifyContacts(filename):\n",
    "    updated_data={}\n",
    "    name=input('enter user name')\n",
    "    with open(filename,'r') as f:\n",
    "        for line in f:\n",
    "            line=line.strip(',')\n",
    "            if name in line:\n",
    "                mobile=input('enter mobile number')\n",
    "                email=input('enter email')\n",
    "                line[1]=mobile\n",
    "                line[2]=email\n",
    "                updated_data[line[0]]=[line[1],line[2]]\n",
    "            else:\n",
    "                updated_data[line[0]]=[line[1],line[2]]\n",
    "                continue\n",
    "\n",
    "    with open(filename,'w') as info:\n",
    "        for user in updated_data.items():\n",
    "            info.write(user[0]+\",\"+user[1][0]+\",\"+user[1][1]+\"\\n\")\n",
    "            \n",
    "            \n",
    "            \n",
    "    \n",
    "    \n",
    "filename=input()\n",
    "modifyContacts(filename)"
   ]
  },
  {
   "cell_type": "code",
   "execution_count": null,
   "metadata": {},
   "outputs": [],
   "source": [
    "days=int(input())\n",
    "c=0\n",
    "for i in range(1,days+1):\n",
    "   s=input().split()\n",
    "   sharma=int(s[0])\n",
    "   mother=int(s[1])\n",
    "   if((2*22/7*sharma)<=(100*mother)):\n",
    "       c+=1\n",
    "print(c)"
   ]
  },
  {
   "cell_type": "code",
   "execution_count": 3,
   "metadata": {},
   "outputs": [
    {
     "name": "stdout",
     "output_type": "stream",
     "text": [
      "1\n",
      "cde\n",
      "abc\n",
      "4\n"
     ]
    }
   ],
   "source": [
    "def anagrams(st1,st2):\n",
    "   x1=[]\n",
    "   x2=[]\n",
    "   x=[]\n",
    "   temp=ord('a')\n",
    "   for i in range (0,26):\n",
    "       x1.append(st1.count(chr(temp)))\n",
    "       x2.append(st2.count(chr(temp)))\n",
    "       temp=temp+1\n",
    "   for j in range(0,26):\n",
    "       x.append(abs(x2[j]-x1[j]))\n",
    "   return sum(x)\n",
    "n=int(input())\n",
    "for i in range(n):\n",
    "   s1=input()\n",
    "   s2=input()\n",
    "   print(anagrams(s1,s2))"
   ]
  },
  {
   "cell_type": "code",
   "execution_count": 2,
   "metadata": {},
   "outputs": [
    {
     "name": "stdout",
     "output_type": "stream",
     "text": [
      "new\n",
      "data\n",
      "line2\n",
      "line3\n",
      "line4\n",
      "hai\n",
      "my\n",
      "name\n",
      "is\n",
      "kamatham\n",
      "veera\n",
      "vanitha\n",
      "hai\n",
      "my\n",
      "is\n",
      "hi\n",
      "pavani\n",
      "how\n",
      "r\n",
      "u\n",
      "i\n",
      "am\n",
      "fine\n",
      "N 1\n",
      "o 1\n",
      "n 1\n",
      "e 1\n"
     ]
    }
   ],
   "source": [
    "file=open(\"../APSSDC-Python-Programming-June-2019/Data Files/data.txt\")\n",
    "\n",
    "\n",
    "def strip_sonnets():\n",
    "    import string\n",
    "    new_file=file.read().split()\n",
    "    for words in new_file:\n",
    "        data=words.translate(string.punctuation)\n",
    "        data=data.lower()\n",
    "        data=data.strip(\".\")\n",
    "        data=data.strip(\",\")\n",
    "        data=data.strip(\"?\")\n",
    "        data=data.strip(\";\")\n",
    "        data=data.strip(\"!\")\n",
    "        data=data.replace(\"'\",\"\")\n",
    "        data=data.replace('\"',\"\")\n",
    "        data=data.strip(\":\")\n",
    "        print(data)\n",
    "\n",
    "new_file=strip_sonnets()\n",
    "new_file=str(new_file)\n",
    "\n",
    "count={}\n",
    "for w in new_file:\n",
    "    if w in count:\n",
    "        count[w] += 1\n",
    "    else:\n",
    "        count[w] = 1\n",
    "for word, times in count.items():\n",
    "    print (word, times)"
   ]
  },
  {
   "cell_type": "code",
   "execution_count": 1,
   "metadata": {},
   "outputs": [
    {
     "name": "stdout",
     "output_type": "stream",
     "text": [
      "183\n",
      "1275\n",
      "4\n"
     ]
    }
   ],
   "source": [
    "###COUNT THE NO OF CHARACTERS\n",
    "\n",
    "\n",
    "filename=\"../APSSDC-Python-Programming-June-2019/Data Files/data1.txt\"\n",
    "words=0\n",
    "characters=0\n",
    "lines=0\n",
    "with open(filename,'r') as file:\n",
    "    for line in file:\n",
    "        wordslist=line.split()\n",
    "        lines=lines+1\n",
    "        words=words+len(wordslist)\n",
    "        characters=characters+len(line)\n",
    "\n",
    "print(words)\n",
    "print(characters)\n",
    "print(lines)\n",
    "        "
   ]
  },
  {
   "cell_type": "code",
   "execution_count": 7,
   "metadata": {},
   "outputs": [
    {
     "name": "stdout",
     "output_type": "stream",
     "text": [
      "to 7\n",
      "search 1\n",
      "For 1\n",
      "other 1\n",
      "uses, 1\n",
      "see 1\n",
      "Python. 1\n",
      "Python 14\n",
      "Paradigm 1\n",
      "Multi-paradigm: 1\n",
      "functional, 1\n",
      "imperative, 1\n",
      "object-oriented, 2\n",
      "reflective 1\n",
      "Designed 1\n",
      "by 3\n",
      "Guido 3\n",
      "van 3\n",
      "Rossum 3\n",
      "Developer 1\n",
      "Python 14\n",
      "Software 2\n",
      "Foundation 2\n",
      "First 1\n",
      "appeared 1\n",
      "1990; 1\n",
      "29 1\n",
      "years 1\n",
      "ago[1] 1\n",
      "Stable 1\n",
      "release 2\n",
      "Duck, 1\n",
      "dynamic, 1\n",
      "gradual 1\n",
      "(since 2\n",
      "3.5)[4] 1\n",
      "License 2\n",
      "Python 14\n",
      "Software 2\n",
      "Foundation 2\n",
      "License 2\n",
      "Filename 1\n",
      "extensions 1\n",
      ".py, 1\n",
      ".pyc, 1\n",
      ".pyd, 1\n",
      ".pyo 1\n",
      "(prior 1\n",
      "to 7\n",
      "3.5),[5] 1\n",
      ".pyw, 1\n",
      ".pyz 1\n",
      "(since 2\n",
      "3.5)[6] 1\n",
      "Website 1\n",
      "www.python.org 1\n",
      "Major 1\n",
      "implementations 1\n",
      "CPython, 1\n",
      "PyPy, 1\n",
      "Stackless 1\n",
      "Python, 1\n",
      "MicroPython, 1\n",
      "CircuitPython, 1\n",
      "IronPython, 1\n",
      "Jython 1\n",
      "Dialects 1\n",
      "Cython, 1\n",
      "RPython, 1\n",
      "Starlark[7] 1\n",
      "Influenced 2\n",
      "by 3\n",
      "ABC,[8] 1\n",
      "ALGOL 1\n",
      "68,[9] 1\n",
      "APL,[10] 1\n",
      "C,[11] 1\n",
      "C++,[12] 1\n",
      "CLU,[13] 1\n",
      "Dylan,[14] 1\n",
      "Haskell,[15] 1\n",
      "Icon,[16] 1\n",
      "Java,[17] 1\n",
      "Lisp,[18] 1\n",
      "Modula-3,[12] 1\n",
      "Perl, 1\n",
      "Standard 1\n",
      "ML[10] 1\n",
      "Influenced 2\n",
      "Apache 1\n",
      "Groovy, 1\n",
      "Boo, 1\n",
      "Cobra, 1\n",
      "CoffeeScript,[19] 1\n",
      "D, 1\n",
      "F#, 1\n",
      "Genie,[20] 1\n",
      "Go, 1\n",
      "JavaScript,[21][22] 1\n",
      "Julia,[23] 1\n",
      "Nim, 1\n",
      "Ring,[24] 1\n",
      "Ruby,[25] 1\n",
      "Swift[26] 1\n",
      "Python 14\n",
      "Programming 1\n",
      "at 1\n",
      "Wikibooks 1\n",
      "Python 14\n",
      "is 4\n",
      "an 1\n",
      "interpreted, 1\n",
      "high-level, 1\n",
      "general-purpose 1\n",
      "programming 2\n",
      "language. 2\n",
      "Created 1\n",
      "by 3\n",
      "Guido 3\n",
      "van 3\n",
      "Rossum 3\n",
      "and 7\n",
      "first 1\n",
      "released 3\n",
      "in 3\n",
      "1991, 1\n",
      "Python's 1\n",
      "design 1\n",
      "philosophy 1\n",
      "emphasizes 1\n",
      "code 4\n",
      "readability 1\n",
      "with 1\n",
      "its 2\n",
      "notable 1\n",
      "use 1\n",
      "of 4\n",
      "significant 1\n",
      "whitespace. 1\n",
      "Its 1\n",
      "language 3\n",
      "constructs 1\n",
      "and 7\n",
      "object-oriented 1\n",
      "approach 1\n",
      "aim 1\n",
      "to 7\n",
      "help 1\n",
      "programmers 1\n",
      "write 1\n",
      "clear, 1\n",
      "logical 1\n",
      "code 4\n",
      "for 4\n",
      "small 1\n",
      "and 7\n",
      "large-scale 1\n",
      "projects.[27] 1\n",
      "Python 14\n",
      "is 4\n",
      "dynamically 1\n",
      "typed 1\n",
      "and 7\n",
      "garbage-collected. 1\n",
      "It 1\n",
      "supports 1\n",
      "multiple 1\n",
      "programming 2\n",
      "paradigms, 1\n",
      "including 1\n",
      "procedural, 1\n",
      "object-oriented, 2\n",
      "and 7\n",
      "functional 1\n",
      "programming. 1\n",
      "Python 14\n",
      "is 4\n",
      "often 1\n",
      "described 1\n",
      "as 2\n",
      "a 4\n",
      "\"batteries 1\n",
      "included\" 1\n",
      "language 3\n",
      "due 1\n",
      "to 7\n",
      "its 2\n",
      "comprehensive 1\n",
      "standard 1\n",
      "library.[28] 1\n",
      "Python 14\n",
      "was 3\n",
      "conceived 1\n",
      "in 3\n",
      "the 6\n",
      "late 1\n",
      "1980s 1\n",
      "as 2\n",
      "a 4\n",
      "successor 1\n",
      "to 7\n",
      "the 6\n",
      "ABC 1\n",
      "language. 2\n",
      "Python 14\n",
      "2.0, 1\n",
      "released 3\n",
      "2000, 1\n",
      "introduced 1\n",
      "features 1\n",
      "like 1\n",
      "list 1\n",
      "comprehensions 1\n",
      "and 7\n",
      "a 4\n",
      "garbage 1\n",
      "collection 1\n",
      "system 1\n",
      "capable 1\n",
      "of 4\n",
      "collecting 1\n",
      "reference 1\n",
      "cycles. 1\n",
      "Python 14\n",
      "3.0, 1\n",
      "released 3\n",
      "2008, 1\n",
      "was 3\n",
      "a 4\n",
      "major 1\n",
      "revision 1\n",
      "of 4\n",
      "the 6\n",
      "language 3\n",
      "that 1\n",
      "is 4\n",
      "not 2\n",
      "completely 1\n",
      "backward-compatible, 1\n",
      "and 7\n",
      "much 1\n",
      "Python 14\n",
      "2 1\n",
      "code 4\n",
      "does 1\n",
      "not 2\n",
      "run 1\n",
      "unmodified 1\n",
      "on 1\n",
      "Python 14\n",
      "3. 1\n",
      "Due 1\n",
      "to 7\n",
      "concern 1\n",
      "about 1\n",
      "the 6\n",
      "amount 1\n",
      "of 4\n",
      "code 4\n",
      "written 1\n",
      "for 4\n",
      "Python 14\n",
      "2, 1\n",
      "support 1\n",
      "for 4\n",
      "Python 14\n",
      "2.7 1\n",
      "(the 1\n",
      "last 1\n",
      "release 2\n",
      "in 3\n",
      "the 6\n",
      "2.x 1\n",
      "series) 1\n",
      "was 3\n",
      "extended 1\n",
      "to 7\n",
      "2020. 1\n",
      "Language 1\n",
      "developer 1\n",
      "Guido 3\n",
      "van 3\n",
      "Rossum 3\n",
      "shouldered 1\n",
      "sole 1\n",
      "responsibility 1\n",
      "for 4\n",
      "the 6\n",
      "project 1\n",
      "until 1\n",
      "July 1\n"
     ]
    }
   ],
   "source": [
    "###no of unique words\n",
    "\n",
    "def readFile(filepath):\n",
    "    with open(filepath,\"r\") as f:\n",
    "        filedata=f.read()\n",
    "        for i in filedata.split():\n",
    "            print(i,filedata.split().count(i))\n",
    "    return\n",
    "readFile(\"../APSSDC-Python-Programming-June-2019/Data Files/data1.txt\")"
   ]
  },
  {
   "cell_type": "code",
   "execution_count": 9,
   "metadata": {},
   "outputs": [],
   "source": [
    "filename=\"../APSSDC-Python-Programming-June-2019/Data Files/data1.txt\"\n",
    "\n",
    "characters=0\n",
    "\n",
    "with open(filename,'r') as file:\n",
    "    for line in file:\n",
    "        wordslist=line.split()\n",
    "        characters=characters+len(line)\n",
    "\n",
    "    if(characters==1000):\n",
    "        print(\"1KB\")\n",
    "    elif(characters<=1000 || characters>=1000):\n",
    "        characters=characters//1000\n",
    "        print(\"size is bytes \",characters)\n",
    "        \n",
    "\n"
   ]
  },
  {
   "cell_type": "code",
   "execution_count": null,
   "metadata": {},
   "outputs": [],
   "source": []
  }
 ],
 "metadata": {
  "kernelspec": {
   "display_name": "Python 3",
   "language": "python",
   "name": "python3"
  },
  "language_info": {
   "codemirror_mode": {
    "name": "ipython",
    "version": 3
   },
   "file_extension": ".py",
   "mimetype": "text/x-python",
   "name": "python",
   "nbconvert_exporter": "python",
   "pygments_lexer": "ipython3",
   "version": "3.7.3"
  }
 },
 "nbformat": 4,
 "nbformat_minor": 2
}
