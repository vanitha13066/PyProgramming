{
 "cells": [
  {
   "cell_type": "markdown",
   "metadata": {},
   "source": [
    "# Day Objectives\n",
    "\n",
    "\n",
    "--> Maps\n",
    "--> Filters\n",
    "--> Lambda\n",
    "--> Usecases-File/Data Encryption"
   ]
  },
  {
   "cell_type": "markdown",
   "metadata": {},
   "source": [
    "## Map\n",
    "\n",
    "Mapping-Entity with Function\n",
    "\n",
    "f: x^2+3*x+9\n",
    "\n",
    "x: [1,10]\n",
    "\n",
    "f(x)\n",
    "\n",
    "f(1)=13\n",
    "\n",
    "f(2)=19\n",
    "\n",
    ".....\n",
    "\n",
    "\n",
    "y=f(x)\n",
    "\n",
    "f: x^2\n",
    "\n",
    "x     y\n",
    "\n",
    "\n",
    "1     1\n",
    "2     4\n",
    "3     9\n",
    "4     16\n",
    "5     25\n",
    "6     36\n",
    "7     49\n",
    "\n",
    "map(function, Iterable)\n"
   ]
  },
  {
   "cell_type": "code",
   "execution_count": 3,
   "metadata": {},
   "outputs": [
    {
     "data": {
      "text/plain": [
       "16"
      ]
     },
     "execution_count": 3,
     "metadata": {},
     "output_type": "execute_result"
    }
   ],
   "source": [
    "def powerN(a,n):\n",
    "    return a**n\n",
    "powerN(2,4)\n",
    "    "
   ]
  },
  {
   "cell_type": "code",
   "execution_count": 6,
   "metadata": {},
   "outputs": [
    {
     "data": {
      "text/plain": [
       "1024"
      ]
     },
     "execution_count": 6,
     "metadata": {},
     "output_type": "execute_result"
    }
   ],
   "source": [
    "def powerN1(a,n):\n",
    "    r=1\n",
    "    for i in range(0,n):\n",
    "        r*=a\n",
    "    return r\n",
    "powerN1(2,10)\n",
    "        "
   ]
  },
  {
   "cell_type": "code",
   "execution_count": null,
   "metadata": {},
   "outputs": [],
   "source": [
    "def recursive(a,n):\n",
    "    if n==0:\n",
    "        return 1\n",
    "    else:\n",
    "        return a*recursive(a,n)\n",
    "recursive(2,4)"
   ]
  },
  {
   "cell_type": "code",
   "execution_count": null,
   "metadata": {},
   "outputs": [],
   "source": []
  },
  {
   "cell_type": "code",
   "execution_count": 8,
   "metadata": {},
   "outputs": [
    {
     "data": {
      "text/plain": [
       "{1.0, 2.0, 3.0, 4.0, 5.0, 6.0}"
      ]
     },
     "execution_count": 8,
     "metadata": {},
     "output_type": "execute_result"
    }
   ],
   "source": [
    "def cube(n):\n",
    "    return n**3\n",
    "#cube(4)\n",
    "\n",
    "li=[1,2,3,4,5,6]\n",
    "#li=['1','2','3']\n",
    "set(map(cube,li))\n",
    "\n",
    "li2=list(map(int,li))\n",
    "set(map(float,li2))"
   ]
  },
  {
   "cell_type": "markdown",
   "metadata": {},
   "source": [
    "# Filter\n",
    "\n",
    "used to check boolean values\n"
   ]
  },
  {
   "cell_type": "code",
   "execution_count": 21,
   "metadata": {},
   "outputs": [
    {
     "data": {
      "text/plain": [
       "[1, 2, 3]"
      ]
     },
     "execution_count": 21,
     "metadata": {},
     "output_type": "execute_result"
    }
   ],
   "source": [
    "li=[1,2,'a','b','c',3]\n",
    "def isDigit(c):\n",
    "    c=str(c)\n",
    "    if c.isdigit():\n",
    "        return True\n",
    "    return False\n",
    "\n",
    "isDigit('a')\n",
    "\n",
    "#filter(isDigit,li)\n",
    "#filter(li)\n",
    "list(filter(isDigit,li))"
   ]
  },
  {
   "cell_type": "code",
   "execution_count": 24,
   "metadata": {},
   "outputs": [
    {
     "data": {
      "text/plain": [
       "False"
      ]
     },
     "execution_count": 24,
     "metadata": {},
     "output_type": "execute_result"
    }
   ],
   "source": [
    "#Identify all primes in a range\n",
    "\n",
    "def isPrime(n):\n",
    "    count=0\n",
    "    for i in range(1,n):\n",
    "        if n%i==0:\n",
    "            count=count+1\n",
    "        if count==2:\n",
    "            return True\n",
    "        else:\n",
    "            return False\n",
    "isPrime(4)"
   ]
  },
  {
   "cell_type": "code",
   "execution_count": 31,
   "metadata": {},
   "outputs": [
    {
     "data": {
      "text/plain": [
       "False"
      ]
     },
     "execution_count": 31,
     "metadata": {},
     "output_type": "execute_result"
    }
   ],
   "source": [
    "def Prime(n):\n",
    "    count=0\n",
    "    for i in range(1,n):\n",
    "        count=count+1\n",
    "    if count==2:\n",
    "        return True\n",
    "    else:\n",
    "        return False\n",
    "Prime(6)\n",
    "\n",
    "\n",
    "    "
   ]
  },
  {
   "cell_type": "code",
   "execution_count": null,
   "metadata": {},
   "outputs": [],
   "source": []
  },
  {
   "cell_type": "code",
   "execution_count": 37,
   "metadata": {},
   "outputs": [
    {
     "name": "stdout",
     "output_type": "stream",
     "text": [
      "2 3 5 7 11 13 "
     ]
    }
   ],
   "source": [
    "def Prime(n):\n",
    "    count=0\n",
    "    for i in range(1,n+1):\n",
    "        if n%i==0:\n",
    "            count=count+1\n",
    "    if count==2:\n",
    "        return True\n",
    "    else:\n",
    "        return False\n",
    "Prime(5)\n",
    "\n",
    "\n",
    "def PrimeRange(lw,up):\n",
    "    for i in range(lw,up):\n",
    "        if Prime(i)==True:\n",
    "            print(i,end=\" \")\n",
    "PrimeRange(1,15)"
   ]
  },
  {
   "cell_type": "code",
   "execution_count": 2,
   "metadata": {},
   "outputs": [
    {
     "name": "stdout",
     "output_type": "stream",
     "text": [
      "[503, 509, 521, 523, 541, 547, 557, 563, 569, 571, 577, 587, 593, 599]\n"
     ]
    }
   ],
   "source": [
    "def checkprime(n):\n",
    "    if n<2:\n",
    "        return False\n",
    "    for i in range(2,n//2+1):\n",
    "        if n%i==0:\n",
    "            return False\n",
    "    return True\n",
    "lb,ub=500,600\n",
    "Prirange=list(filter(checkprime,range(lb,ub)))\n",
    "print(Prirange)\n",
    "\n",
    "#primelist2=[i for i in range(lb,ub+1) if checkprime ]\n",
    "print(primelist2)\n",
    "              "
   ]
  },
  {
   "cell_type": "code",
   "execution_count": null,
   "metadata": {},
   "outputs": [],
   "source": []
  },
  {
   "cell_type": "code",
   "execution_count": 6,
   "metadata": {},
   "outputs": [],
   "source": [
    "def cube(li):\n",
    "    li=['1','2','3','4','5']\n",
    "    li2=list(map(int,li))\n",
    "    tuple(map(float,li2))\n",
    "    numbers=[int(i) for i in li]\n",
    "    [cube(i) for i in numbers]\n",
    "    \n"
   ]
  },
  {
   "cell_type": "markdown",
   "metadata": {},
   "source": [
    "# LAMBDA\n",
    "\n",
    "\n",
    "Anonymous Functions\n",
    "\n",
    "can be embedded into List Comprehension,Maps"
   ]
  },
  {
   "cell_type": "code",
   "execution_count": 13,
   "metadata": {},
   "outputs": [
    {
     "name": "stdout",
     "output_type": "stream",
     "text": [
      "3\n"
     ]
    }
   ],
   "source": [
    "a=[lambda x: x%2==0 for x in range(1,11)]\n",
    "print(3)"
   ]
  },
  {
   "cell_type": "code",
   "execution_count": 14,
   "metadata": {},
   "outputs": [
    {
     "data": {
      "text/plain": [
       "[2, 4, 6]"
      ]
     },
     "execution_count": 14,
     "metadata": {},
     "output_type": "execute_result"
    }
   ],
   "source": [
    "a=lambda x:x**3\n",
    "list(map(lambda x:x**3,[1,2,3,4,5,6]))\n",
    "\n",
    "list(filter(lambda x:(x%2==0),[1,2,3,4,5,6]))\n",
    "\n"
   ]
  },
  {
   "cell_type": "code",
   "execution_count": 24,
   "metadata": {},
   "outputs": [
    {
     "data": {
      "text/plain": [
       "[6, 8, 7]"
      ]
     },
     "execution_count": 24,
     "metadata": {},
     "output_type": "execute_result"
    }
   ],
   "source": [
    "from random import randint\n",
    " \n",
    "internal1=[randint(0,25) for i in range(10)]\n",
    "internal2=[randint(0,25) for i in range(10)]\n",
    "internal3=[randint(0,25) for i in range(10)]\n",
    "\n",
    "averageInternal=list(map(lambda x,y,z: (x+y+z)//3, internal1, internal2,internal3))\n",
    "averageInternal\n",
    "failedmarks=list(filter(lambda x:x<10, averageInternal))\n",
    "failedmarks"
   ]
  },
  {
   "cell_type": "code",
   "execution_count": null,
   "metadata": {},
   "outputs": [],
   "source": []
  },
  {
   "cell_type": "markdown",
   "metadata": {},
   "source": [
    "# Applying Functional Programming to the marks Analysis Applications"
   ]
  },
  {
   "cell_type": "code",
   "execution_count": 36,
   "metadata": {},
   "outputs": [],
   "source": [
    "#Generate Marks Data\n",
    "from random import randint\n",
    "def generateMarks(n,lb,ub):\n",
    "    filename='DataFiles/marks1.txt'\n",
    "    with open(filename,'w') as f:\n",
    "        for i in range(n):\n",
    "            marks=randint(lb,ub)\n",
    "            f.write(str(marks)+'\\n')\n",
    "    return \n",
    "generateMarks(10,0,100)"
   ]
  },
  {
   "cell_type": "code",
   "execution_count": 37,
   "metadata": {},
   "outputs": [
    {
     "data": {
      "text/plain": [
       "55"
      ]
     },
     "execution_count": 37,
     "metadata": {},
     "output_type": "execute_result"
    }
   ],
   "source": [
    "#Marks Analysis\n",
    "\n",
    "    # Class Aveage\n",
    "    #% of Passed, Failed and Distinction\n",
    "    # Frequency of Highest& Lowest Mark\n",
    "import re\n",
    "def classAverage(filepath):\n",
    "    with open(filepath,'r') as f:\n",
    "        filedata=f.read().split()\n",
    "                                                    #markslist=re.split('\\n',filedata)\n",
    "        #markslist=[]\n",
    "        markslist=list(map(int,filedata))\n",
    "                                                    #sum(markslist)//len(markslist)\n",
    "    return sum(markslist)//len(markslist)\n",
    "filename='DataFiles/marks1.txt'\n",
    "classAverage(filename)\n",
    "        \n",
    "    "
   ]
  },
  {
   "cell_type": "code",
   "execution_count": 39,
   "metadata": {},
   "outputs": [
    {
     "data": {
      "text/plain": [
       "30.0"
      ]
     },
     "execution_count": 39,
     "metadata": {},
     "output_type": "execute_result"
    }
   ],
   "source": [
    "def readMarksList(filepath):\n",
    "    with open(filepath,'r') as f:\n",
    "        filedata=f.read().split()\n",
    "    return list(map(int,filedata))\n",
    "\n",
    "\n",
    "\n",
    "def PercentageFailed(filepath):\n",
    "    markslist=readMarksList(filepath)\n",
    "    failedcount=len(list(filter(lambda mark:mark < 40,markslist)))\n",
    "    return (failedcount/len(markslist)*100)\n",
    "filepath = 'DataFiles/marks1.txt'\n",
    "PercentageFailed(filepath)"
   ]
  },
  {
   "cell_type": "code",
   "execution_count": 40,
   "metadata": {},
   "outputs": [
    {
     "data": {
      "text/plain": [
       "70.0"
      ]
     },
     "execution_count": 40,
     "metadata": {},
     "output_type": "execute_result"
    }
   ],
   "source": [
    "def percentagePassed(filepath):\n",
    "    return 100-PercentageFailed(filepath)\n",
    "\n",
    "percentagePassed(filepath)"
   ]
  },
  {
   "cell_type": "code",
   "execution_count": 43,
   "metadata": {},
   "outputs": [
    {
     "data": {
      "text/plain": [
       "50.0"
      ]
     },
     "execution_count": 43,
     "metadata": {},
     "output_type": "execute_result"
    }
   ],
   "source": [
    "def Distinction(filepath):\n",
    "    markslist=readMarksList(filepath)\n",
    "    distinction=len(list(filter(lambda  mark:mark>70, markslist)))\n",
    "    return (distinction/len(markslist))*100\n",
    "filepath = 'DataFiles/marks1.txt'\n",
    "Distinction(filepath)"
   ]
  },
  {
   "cell_type": "code",
   "execution_count": 44,
   "metadata": {},
   "outputs": [
    {
     "data": {
      "text/plain": [
       "[2]"
      ]
     },
     "execution_count": 44,
     "metadata": {},
     "output_type": "execute_result"
    }
   ],
   "source": [
    "def highestMarkFrequency(filepath):\n",
    "    markslist=readMarksList(filepath)\n",
    "    return [markslist.count(max(markslist))]\n",
    "highestMarkFrequency(filepath)"
   ]
  },
  {
   "cell_type": "code",
   "execution_count": null,
   "metadata": {},
   "outputs": [],
   "source": []
  },
  {
   "cell_type": "code",
   "execution_count": 45,
   "metadata": {},
   "outputs": [
    {
     "data": {
      "text/plain": [
       "[1]"
      ]
     },
     "execution_count": 45,
     "metadata": {},
     "output_type": "execute_result"
    }
   ],
   "source": [
    "def lowestMarkFrequency(filepath):\n",
    "    markslist=readMarksList(filepath)\n",
    "    return [markslist.count(min(markslist))]\n",
    "lowestMarkFrequency(filepath)"
   ]
  },
  {
   "cell_type": "code",
   "execution_count": null,
   "metadata": {},
   "outputs": [],
   "source": []
  },
  {
   "cell_type": "code",
   "execution_count": null,
   "metadata": {},
   "outputs": [],
   "source": []
  },
  {
   "cell_type": "markdown",
   "metadata": {},
   "source": [
    "# Data Encryption\n",
    "\n",
    "\n",
    "key--mapping of characters with replaced characters\n",
    "\n",
    "\n",
    "0-->4\n",
    "1-->5\n",
    "2-->6\n",
    "3-->7\n",
    "4-->8\n",
    "5-->9\n",
    "6-->0\n",
    "7-->1\n",
    "8-->2\n",
    "9-->3"
   ]
  },
  {
   "cell_type": "code",
   "execution_count": 49,
   "metadata": {},
   "outputs": [],
   "source": [
    "# Function to generate key for encryption\n",
    "\n",
    "keypath='DataFiles/key.txt'\n",
    "\n",
    "def generateKey(keypath):\n",
    "    with open(keypath,'w') as f:\n",
    "        for i in range(10):\n",
    "            if i < 6:\n",
    "                f.write(str(i) + ' ' + str(i+4)+'\\n')\n",
    "            else:\n",
    "                f.write(str(i) + ' ' + str(i-6)+ '\\n')\n",
    "\n",
    "    return\n",
    "generateKey(keypath)"
   ]
  },
  {
   "cell_type": "code",
   "execution_count": 3,
   "metadata": {},
   "outputs": [],
   "source": [
    "\n",
    "\n",
    "keyfile='DataFiles/key.txt'\n",
    "def dictionaryKeyFile(keyfile):\n",
    "    key={}\n",
    "    with open(keyfile,'r') as f:\n",
    "        for line in f:\n",
    "            line=line.split()\n",
    "            key[line[0]]=line[1]\n",
    "    return key\n",
    "\n",
    "\n",
    "def encryptMarksData(datafile,keyfile):\n",
    "    #CONSTRUCT A DICTIONARY FOR KEY DATA\n",
    "    key=dictionaryKeyFile(keyfile)\n",
    "    with open(datafile,'r') as f:\n",
    "        filedata=f.read().split('\\n')\n",
    "        \n",
    "    "
   ]
  },
  {
   "cell_type": "code",
   "execution_count": null,
   "metadata": {},
   "outputs": [],
   "source": []
  },
  {
   "cell_type": "code",
   "execution_count": null,
   "metadata": {},
   "outputs": [],
   "source": []
  },
  {
   "cell_type": "code",
   "execution_count": null,
   "metadata": {},
   "outputs": [],
   "source": []
  },
  {
   "cell_type": "code",
   "execution_count": null,
   "metadata": {},
   "outputs": [],
   "source": []
  }
 ],
 "metadata": {
  "kernelspec": {
   "display_name": "Python 3",
   "language": "python",
   "name": "python3"
  },
  "language_info": {
   "codemirror_mode": {
    "name": "ipython",
    "version": 3
   },
   "file_extension": ".py",
   "mimetype": "text/x-python",
   "name": "python",
   "nbconvert_exporter": "python",
   "pygments_lexer": "ipython3",
   "version": "3.7.3"
  }
 },
 "nbformat": 4,
 "nbformat_minor": 2
}
