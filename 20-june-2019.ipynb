{
 "cells": [
  {
   "cell_type": "markdown",
   "metadata": {},
   "source": [
    "# Day Objectives\n",
    "\n",
    "date:-20-june-2019\n",
    "\n",
    "*Regular Expressions\n",
    "*Constructing Regular Expression for various use cases\n",
    "*Regular Expression Module and related in Python\n",
    "*Improving the Contacts Application with name and phone number validation using regular expressions\n",
    "*File Handling\n",
    "*Text Files\n",
    "*Upgrading the Contacts Application to store contact information in a text file"
   ]
  },
  {
   "cell_type": "code",
   "execution_count": null,
   "metadata": {},
   "outputs": [],
   "source": []
  },
  {
   "cell_type": "markdown",
   "metadata": {},
   "source": [
    "# Regular Expressions\n",
    "\n",
    "-Pattern Matching\n",
    "-symbolic Notation of a pattern \n",
    "    -pattern : format which repeats \n",
    "    -Pattern(RE)-The set of all strings matches that pattern\n",
    "-[0-9]--> Any Digit\n",
    "-[a-z]-->Any Lowercase Alphabet\n",
    "-[2468] --->All single digit  Multiples of 2\n",
    "    [8642]/[4628]/[6842]/[2864]......etc....order is not important\n",
    "    -^[0-9]{1}$--->  only one digit can highlet\n",
    "    ^[0-9]{2}$--->  only two digit can highlet or if \n",
    "    ^[0-9]{3}---> If u enter any number of outputs only 3 numbers will be highlated first 3 numbers(remove $ symbol)\n",
    "    [0-9]{2}$---->last 2 characters are highlated when we remove (^symbol)\n",
    "    [0-9]*0$--->All Multiples  of 10\n",
    "    ^[1-9][0-9]*0$--->It selects at the end must be 0...(like that 10,3650,37750)\n",
    "    \n",
    "    \n",
    " ^[0-10]*[0-2648]$---->2 multiples   \n",
    " \n",
    " \n",
    "^[1-9][0-9]*[05]|[5]$-->All multiples of 5\n",
    "\n",
    "\n",
    "^[0-9]{10}$ -->All 10 digit numbers\n",
    "\n",
    "\n",
    "\n",
    "^[9876]*[0-9]{8}$//[6-9][0-9]{9}$--->validating phone number(India)(start with 9876 followed by 10digits)\n",
    "\n",
    "\n",
    "^[a-zA-Z0-9]*@[a-z]*.com|^[a-zA-Z0-9]*@[a-z]*.in--->email validtation (user name@gmail.com)\n",
    "\n",
    "\n",
    "^[+][9][1][6-9][0-9]{9}$---->INDIAN Phone Number\n",
    "\n",
    "[p][r][i][n][t]$-->output will be PRINT\n",
    "\n",
    "\n",
    "GMAIL\n",
    "^[0-9a-z][0-9a-z_.]{4,13}[0-9a-z][@][a-z0-9]{3,18}[.][a-z]{2,4}\n",
    "\n",
    "\n",
    "\n",
    "^[a]...[z]$-->Any String of Length 5 that starts with a and ends with z\n",
    "^[a].*[z]$---->\n",
    "    "
   ]
  },
  {
   "cell_type": "code",
   "execution_count": 9,
   "metadata": {},
   "outputs": [
    {
     "name": "stdout",
     "output_type": "stream",
     "text": [
      "4\n",
      "*   *\n",
      "*   *\n",
      "*****\n",
      "*   *\n",
      "*   *\n",
      "*****\n",
      "*   *\n",
      "*   *\n",
      "*****\n",
      "*   *\n",
      "*   *\n",
      "*****\n",
      "*   *\n",
      "*   *\n"
     ]
    }
   ],
   "source": [
    "###LADDERPHILS\n",
    "s=int(input())\n",
    "for i in range(1,s+1):\n",
    "    for j in range(2):\n",
    "        print('*   *')\n",
    "    print('*****')\n",
    "for j in range(2):\n",
    "    print('*   *')\n",
    "        \n"
   ]
  },
  {
   "cell_type": "code",
   "execution_count": null,
   "metadata": {},
   "outputs": [],
   "source": []
  },
  {
   "cell_type": "code",
   "execution_count": 10,
   "metadata": {},
   "outputs": [
    {
     "name": "stdout",
     "output_type": "stream",
     "text": [
      "2\n",
      "abc\n",
      "chd\n",
      "4\n",
      "hrjherh\n",
      "euyueteu\n",
      "13\n"
     ]
    }
   ],
   "source": [
    "def anagrams(s1,s2):\n",
    "    x1=[]\n",
    "    x2=[]\n",
    "    x=[]\n",
    "    temp=ord('a')\n",
    "    for i in range (0,26):\n",
    "        x1.append(s1.count(chr(temp)))\n",
    "        x2.append(s2.count(chr(temp)))\n",
    "        temp=temp+1\n",
    "    for j in range(0,26):\n",
    "        x.append(abs(x2[j]-x1[j]))\n",
    "    return sum(x)\n",
    "n=int(input())\n",
    "for i in range(n):\n",
    "    s1=input()\n",
    "    s2=input()\n",
    "    print(anagrams(s1,s2))\n",
    " "
   ]
  },
  {
   "cell_type": "code",
   "execution_count": null,
   "metadata": {},
   "outputs": [],
   "source": []
  },
  {
   "cell_type": "code",
   "execution_count": 14,
   "metadata": {},
   "outputs": [
    {
     "name": "stdout",
     "output_type": "stream",
     "text": [
      "3\n",
      "**************\n",
      "**************\n",
      "* *\n",
      "**************\n",
      "**************\n",
      "* *\n",
      "**************\n",
      "**************\n",
      "* *\n",
      "*********************\n",
      "*********************\n"
     ]
    }
   ],
   "source": [
    "s=int(input())\n",
    "for i in range(1,s+1):\n",
    "    for j in range(2):\n",
    "        print('**************')\n",
    "    print('* *')\n",
    "for j in range(2):\n",
    "    print('*********************')"
   ]
  },
  {
   "cell_type": "code",
   "execution_count": 17,
   "metadata": {},
   "outputs": [
    {
     "name": "stdout",
     "output_type": "stream",
     "text": [
      "invalid number\n"
     ]
    }
   ],
   "source": [
    "#Function to validate a phone number\n",
    "\n",
    "import re \n",
    "\n",
    "\n",
    "\n",
    "def PhoneNumberValidator(number):\n",
    "    pattern='^[6-9][0-9]{9}$|^[6-9][0-9]{9}$'\n",
    "    if re.match(pattern,str(number)):\n",
    "        print(\"valid number\")\n",
    "    else:\n",
    "        print(\"invalid number\")\n",
    "    return\n",
    "PhoneNumberValidator(936633636)"
   ]
  },
  {
   "cell_type": "code",
   "execution_count": null,
   "metadata": {},
   "outputs": [],
   "source": []
  },
  {
   "cell_type": "code",
   "execution_count": null,
   "metadata": {},
   "outputs": [],
   "source": [
    "####File Handling in Python\n",
    "\n",
    "file:-----Document containing information residing on the permanant\n",
    "Types:----Text,PDF,CSV,etc\n",
    "    \n",
    "    \n",
    "File I/O---->Chanelling I/O data to files\n",
    "Default I/O channels--keyboard/screen\n",
    "\n",
    "change I/O channel to files for reading and writing \n",
    "\n",
    "read a file-Input\n",
    "write to a file-output to a file\n"
   ]
  },
  {
   "cell_type": "code",
   "execution_count": 2,
   "metadata": {},
   "outputs": [
    {
     "name": "stdout",
     "output_type": "stream",
     "text": [
      "new data\n"
     ]
    }
   ],
   "source": [
    "\n",
    "#function to read a file\n",
    "\n",
    "def readFile(filename):\n",
    "    f=open(filename, 'r')\n",
    "    filedata=f.read()\n",
    "    f.close()\n",
    "    return filedata\n",
    "\n",
    "filename=\"../APSSDC-Python-Programming-June-2019/Data Files/data.txt\"\n",
    "filedata=readFile(filename)\n",
    "for line in filedata.split('\\n'):\n",
    "    print(line)\n",
    "\n"
   ]
  },
  {
   "cell_type": "code",
   "execution_count": 1,
   "metadata": {},
   "outputs": [],
   "source": [
    "###modify data\n",
    "def writeIntoFile(filename,filedata):\n",
    "    with open(filename,'w') as f:\n",
    "        f.write(filedata)\n",
    "    return\n",
    "\n",
    "filename=\"../APSSDC-Python-Programming-June-2019/Data Files/data.txt\"\n",
    "\n",
    "writeIntoFile(filename,\"new data\")"
   ]
  },
  {
   "cell_type": "code",
   "execution_count": 2,
   "metadata": {},
   "outputs": [
    {
     "data": {
      "text/plain": [
       "'C:\\\\Users\\\\IIIT-rgukt\\\\Desktop\\\\20-june-2019'"
      ]
     },
     "execution_count": 2,
     "metadata": {},
     "output_type": "execute_result"
    }
   ],
   "source": [
    "pwd\n"
   ]
  },
  {
   "cell_type": "code",
   "execution_count": 3,
   "metadata": {},
   "outputs": [
    {
     "data": {
      "text/plain": [
       "'C:\\\\Users\\\\IIIT-rgukt\\\\Desktop\\\\20-june-2019'"
      ]
     },
     "execution_count": 3,
     "metadata": {},
     "output_type": "execute_result"
    }
   ],
   "source": [
    "pwd"
   ]
  },
  {
   "cell_type": "code",
   "execution_count": 6,
   "metadata": {},
   "outputs": [],
   "source": [
    "#function to append data to a file\n",
    "\n",
    "\n",
    "def appendDataToFile(filename,filedata):\n",
    "    with open(filename,'a') as f:\n",
    "        f.write(filedata)\n",
    "    return\n",
    "\n",
    "filedata=\"line2\\nline3\"\n",
    "appendDataToFile(filename,filedata)"
   ]
  },
  {
   "cell_type": "code",
   "execution_count": null,
   "metadata": {},
   "outputs": [],
   "source": []
  },
  {
   "cell_type": "code",
   "execution_count": null,
   "metadata": {},
   "outputs": [],
   "source": []
  }
 ],
 "metadata": {
  "kernelspec": {
   "display_name": "Python 3",
   "language": "python",
   "name": "python3"
  },
  "language_info": {
   "codemirror_mode": {
    "name": "ipython",
    "version": 3
   },
   "file_extension": ".py",
   "mimetype": "text/x-python",
   "name": "python",
   "nbconvert_exporter": "python",
   "pygments_lexer": "ipython3",
   "version": "3.7.3"
  }
 },
 "nbformat": 4,
 "nbformat_minor": 2
}
