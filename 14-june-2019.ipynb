{
 "cells": [
  {
   "cell_type": "markdown",
   "metadata": {},
   "source": [
    "# Problem Solving and Programming in Python-Day4\n",
    "## 14-june-2019\n",
    "\n",
    "\n",
    "##DAY OBJECTIVES\n",
    "*Python Data Structure\n",
    "*lists\n",
    "*Tuples\n",
    "*Dictionaries\n",
    "*Basic Problem set on Data Structure\n",
    "*Advanced Problem set\n",
    "*packages and modules in python"
   ]
  },
  {
   "cell_type": "markdown",
   "metadata": {},
   "source": [
    "# Python Data Structures\n",
    "\n",
    "# Lists"
   ]
  },
  {
   "cell_type": "code",
   "execution_count": 47,
   "metadata": {},
   "outputs": [
    {
     "name": "stdout",
     "output_type": "stream",
     "text": [
      "[123, 978, 654]\n",
      "433\n"
     ]
    },
    {
     "data": {
      "text/plain": [
       "456"
      ]
     },
     "execution_count": 47,
     "metadata": {},
     "output_type": "execute_result"
    }
   ],
   "source": [
    "li=[123,978,654]\n",
    "print(li)\n",
    "li  #aceess the entire list\n",
    "\n",
    "li[1] #Accessing an element with index  in a list\n",
    "\n",
    "li[1:] ##Access all elemts from second element to last element\n",
    "\n",
    "li[::-1]  ## Reversing list elements and reassigning to original list\n",
    "li\n",
    "\n",
    "\n",
    "\n",
    "li[::2]  ##Accessing even index elements\n",
    "\n",
    "li[1::2] ## ODD ELEMENT\n",
    "\n",
    "## Lists can be accessed,manupulated in two different ways\n",
    "    #Direct Referencing -->[index]\n",
    "    #Indirect Referencing -->Through Functions\n",
    "    \n",
    "    \n",
    "li.append(345)# Adding an element to the end of the list\n",
    "li\n",
    "\n",
    "li.insert(1,234) #Adding an element at a particulat index\n",
    "li\n",
    "\n",
    "li.sort() #sort elements in ascending order\n",
    "li\n",
    "\n",
    "\n",
    "\n",
    "li.pop() ##Remove the last element in a list\n",
    "li\n",
    "\n",
    "li.pop(1)  ##Remove an element at a particular index\n",
    "li\n",
    "\n",
    "li2=[234,456,789]\n",
    "li2\n",
    "\n",
    "li.extend(li2)  ##Merge list 2 into list 1\n",
    "li2\n",
    "li\n",
    "\n",
    "sum(li)## Sum of all elements\n",
    "\n",
    "max(li)  ##maximum element\n",
    "\n",
    "min(li)  ##minimum element\n",
    "\n",
    "len(li)   ##number of elements in a list\n",
    "\n",
    "\n",
    "#Average of list elements\n",
    "\n",
    "sum(li)\n",
    "len(li)\n",
    "avg=sum(li)//len(li)\n",
    "print(avg)\n",
    "\n",
    "\n",
    "##Average of all alternate elements\n",
    "\n",
    "li[::2]\n",
    "li\n",
    "sum(li[::2])//len(li[::2])      ##Average of all even elements\n",
    "\n",
    "sum(li[1::2])//len(li[1::2])   ##Average of all odd elements\n",
    "\n",
    "\n",
    "\n"
   ]
  },
  {
   "cell_type": "code",
   "execution_count": 51,
   "metadata": {},
   "outputs": [
    {
     "name": "stdout",
     "output_type": "stream",
     "text": [
      "234 345 456 654 789 \n",
      "second largest is:\n"
     ]
    },
    {
     "data": {
      "text/plain": [
       "654"
      ]
     },
     "execution_count": 51,
     "metadata": {},
     "output_type": "execute_result"
    }
   ],
   "source": [
    "#Function to identify the second largest in a list\n",
    "    #sort the data and select the second last element\n",
    "    #sort the data in reverse order,and select the second element\n",
    "    #remove the max element and then get the max of the element\n",
    "    #comparing with elements\n",
    "\n",
    "def GenericLargest(li):\n",
    "    li.sort()\n",
    "    for i in range(1,len(li)):\n",
    "        print(li[i],end=\" \")\n",
    "    print()\n",
    "    print(\"second largest is:\")\n",
    "    return li[i-1]\n",
    "GenericLargest(li)\n",
    "\n",
    "    \n",
    "    \n",
    "    \n",
    "\n"
   ]
  },
  {
   "cell_type": "code",
   "execution_count": 60,
   "metadata": {},
   "outputs": [
    {
     "data": {
      "text/plain": [
       "234"
      ]
     },
     "execution_count": 60,
     "metadata": {},
     "output_type": "execute_result"
    }
   ],
   "source": [
    "##Another way of to find the second largest in a list\n",
    "\n",
    "def Second(li):\n",
    "    li.sort()\n",
    "    return li[-2]\n",
    "\n",
    "Second(li)\n",
    "\n",
    "##Function that returns the nth largest element in a list\n",
    "\n",
    "def GenericLar(li,n):\n",
    "    li.sort()\n",
    "    return li[-n]\n",
    "Second(li)\n",
    "GenericLar(li,5)"
   ]
  },
  {
   "cell_type": "code",
   "execution_count": 67,
   "metadata": {},
   "outputs": [
    {
     "data": {
      "text/plain": [
       "-1"
      ]
     },
     "execution_count": 67,
     "metadata": {},
     "output_type": "execute_result"
    }
   ],
   "source": [
    "##Function to search for data in a list\n",
    "##Search the key in the list and return the index of the key.Return -1 if key not found\n",
    "\n",
    "def linearSearch(li,key):\n",
    "    for index in range(0,len(li)):\n",
    "        if li[index]==key:\n",
    "            return index\n",
    "    return -1\n",
    "linearSearch(li,234)\n",
    "\n",
    "\n",
    "def linearSearch2(li,key):\n",
    "    for element in li:\n",
    "        if element==key:\n",
    "            return li.index(element)\n",
    "    return -1\n",
    "linearSearch2(li,234)\n",
    "    \n",
    "    \n",
    "    \n",
    "def Linear(li,key):\n",
    "    if key in li:\n",
    "        return li.index(key)\n",
    "    return -1\n",
    "Linear(li,2234)\n",
    "\n",
    "\n"
   ]
  },
  {
   "cell_type": "code",
   "execution_count": 72,
   "metadata": {},
   "outputs": [
    {
     "data": {
      "text/plain": [
       "1"
      ]
     },
     "execution_count": 72,
     "metadata": {},
     "output_type": "execute_result"
    }
   ],
   "source": [
    "#Function to count the occurances a character in a list\n",
    "    #\"python programming\",m -->is repeating (2) times\n",
    "    \n",
    "    \n",
    "def CountCharOccurances(s,subs):\n",
    "    count=0\n",
    "    for ch in s:\n",
    "        if ch==c:\n",
    "            count+=1\n",
    "    return count\n",
    "\n",
    "\n",
    "def CountCharOccurances(s,c):\n",
    "    return s.count(c)\n",
    "CountCharOccurances(\"python programming\",\"py\")\n"
   ]
  },
  {
   "cell_type": "code",
   "execution_count": 2,
   "metadata": {},
   "outputs": [
    {
     "data": {
      "text/plain": [
       "[1, 2, 3, 4, 5, 6]"
      ]
     },
     "execution_count": 2,
     "metadata": {},
     "output_type": "execute_result"
    }
   ],
   "source": [
    "s=\" 1 2 3 4 5 6\"\n",
    "li=s.split()\n",
    "li\n",
    "numberlist=[]\n",
    "for i in li:\n",
    "    numberlist.append(int(i))\n",
    "numberlist\n",
    "        "
   ]
  }
 ],
 "metadata": {
  "kernelspec": {
   "display_name": "Python 3",
   "language": "python",
   "name": "python3"
  },
  "language_info": {
   "codemirror_mode": {
    "name": "ipython",
    "version": 3
   },
   "file_extension": ".py",
   "mimetype": "text/x-python",
   "name": "python",
   "nbconvert_exporter": "python",
   "pygments_lexer": "ipython3",
   "version": "3.7.3"
  }
 },
 "nbformat": 4,
 "nbformat_minor": 2
}
