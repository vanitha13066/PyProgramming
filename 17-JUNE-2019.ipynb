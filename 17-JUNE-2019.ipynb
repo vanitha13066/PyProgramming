{
 "cells": [
  {
   "cell_type": "markdown",
   "metadata": {},
   "source": [
    "# dont disturb"
   ]
  },
  {
   "cell_type": "code",
   "execution_count": null,
   "metadata": {},
   "outputs": [],
   "source": [
    "t=int(input())\n",
    "j=1\n",
    "while j<=t:\n",
    "    i=int(input())\n",
    "    if i<=108:\n",
    "        if i%12==1 or i%12==6:\n",
    "            if i%12==1:\n",
    "                print (i+11,end=\" \")\n",
    "                print ('WS')\n",
    "            else:\n",
    "                print(i+1,end=\" \")\n",
    "                print('WS')\n",
    "        if i%12==2 or i%12==5:\n",
    "            if i%12==2:\n",
    "                print(i+9,end=\" \")\n",
    "                print('MS')\n",
    "            else:\n",
    "                print(i+3,end=\" \")\n",
    "                print('MS')\n",
    "        if i%12==3 or i%12==4:\n",
    "            if i%12==3:\n",
    "                print(i+7,end=\" \")\n",
    "                print('AS')\n",
    "            else:\n",
    "                print(i+5,end=\" \")\n",
    "                print('AS')\n",
    "    j=j+1\n",
    "        d"
   ]
  },
  {
   "cell_type": "code",
   "execution_count": 5,
   "metadata": {},
   "outputs": [
    {
     "name": "stdout",
     "output_type": "stream",
     "text": [
      "3\n",
      "df gj\n"
     ]
    },
    {
     "ename": "ValueError",
     "evalue": "invalid literal for int() with base 10: 'df gj'",
     "output_type": "error",
     "traceback": [
      "\u001b[1;31m---------------------------------------------------------------------------\u001b[0m",
      "\u001b[1;31mValueError\u001b[0m                                Traceback (most recent call last)",
      "\u001b[1;32m<ipython-input-5-03346085a085>\u001b[0m in \u001b[0;36m<module>\u001b[1;34m\u001b[0m\n\u001b[0;32m      2\u001b[0m \u001b[0mj\u001b[0m\u001b[1;33m=\u001b[0m\u001b[1;36m1\u001b[0m\u001b[1;33m\u001b[0m\u001b[1;33m\u001b[0m\u001b[0m\n\u001b[0;32m      3\u001b[0m \u001b[1;32mwhile\u001b[0m \u001b[0mj\u001b[0m\u001b[1;33m<=\u001b[0m\u001b[0mt\u001b[0m\u001b[1;33m:\u001b[0m\u001b[1;33m\u001b[0m\u001b[1;33m\u001b[0m\u001b[0m\n\u001b[1;32m----> 4\u001b[1;33m     \u001b[0mi\u001b[0m\u001b[1;33m=\u001b[0m\u001b[0mint\u001b[0m\u001b[1;33m(\u001b[0m\u001b[0minput\u001b[0m\u001b[1;33m(\u001b[0m\u001b[1;33m)\u001b[0m\u001b[1;33m)\u001b[0m\u001b[1;33m\u001b[0m\u001b[1;33m\u001b[0m\u001b[0m\n\u001b[0m\u001b[0;32m      5\u001b[0m     \u001b[1;32mif\u001b[0m \u001b[0mi\u001b[0m\u001b[1;33m<=\u001b[0m\u001b[1;36m108\u001b[0m\u001b[1;33m:\u001b[0m\u001b[1;33m\u001b[0m\u001b[1;33m\u001b[0m\u001b[0m\n\u001b[0;32m      6\u001b[0m         \u001b[1;32mif\u001b[0m \u001b[0mi\u001b[0m\u001b[1;33m%\u001b[0m\u001b[1;36m12\u001b[0m\u001b[1;33m==\u001b[0m\u001b[1;36m1\u001b[0m \u001b[1;32mor\u001b[0m \u001b[0mi\u001b[0m\u001b[1;33m%\u001b[0m\u001b[1;36m12\u001b[0m\u001b[1;33m==\u001b[0m\u001b[1;36m6\u001b[0m\u001b[1;33m:\u001b[0m\u001b[1;33m\u001b[0m\u001b[1;33m\u001b[0m\u001b[0m\n",
      "\u001b[1;31mValueError\u001b[0m: invalid literal for int() with base 10: 'df gj'"
     ]
    }
   ],
   "source": [
    "t=int(input())\n",
    "j=1\n",
    "while j<=t:\n",
    "    i=int(input())\n",
    "    if i<=108:\n",
    "        if i%12==1 or i%12==6:\n",
    "            if i%12==1:\n",
    "                print (i+11,end=\" \")\n",
    "                print ('WS')\n",
    "            else:\n",
    "                print(i+1,end=\" \")\n",
    "                print('WS')\n",
    "        if i%12==2 or i%12==5:\n",
    "            if i%12==2:\n",
    "                print(i+9,end=\" \")\n",
    "                print('MS')\n",
    "            else:\n",
    "                print(i+3,end=\" \")\n",
    "                print('MS')\n",
    "        if i%12==3 or i%12==4:\n",
    "            if i%12==3:\n",
    "                print(i+7,end=\" \")\n",
    "                print('AS')\n",
    "            else:\n",
    "                print(i+5,end=\" \")\n",
    "                print('AS')\n",
    "        if i%12==7 or i%12==0:\n",
    "            if i%12==0:\n",
    "                print (i-11,end=\" \")\n",
    "                print ('WS')\n",
    "            else:\n",
    "                print(i-1,end=\" \")\n",
    "                print('WS')\n",
    "        if i%12==8 or i%12==11:\n",
    "            if i%12==11:\n",
    "                print(i-9,end=\" \")\n",
    "                print('MS')\n",
    "            else:\n",
    "                print(i-3,end=\" \")\n",
    "                print('MS')\n",
    "        if i%12==9 or i%12==10:\n",
    "            if i%12==10:\n",
    "                print(i-7,end=\" \")\n",
    "                print('AS')\n",
    "            else:\n",
    "                print(i-5,end=\" \")\n",
    "                print('AS')\n",
    "    j=j+1"
   ]
  },
  {
   "cell_type": "raw",
   "metadata": {},
   "source": [
    "dir(list)"
   ]
  },
  {
   "cell_type": "code",
   "execution_count": 12,
   "metadata": {},
   "outputs": [
    {
     "name": "stdout",
     "output_type": "stream",
     "text": [
      "aab\n",
      "abc\n",
      "3\n"
     ]
    }
   ],
   "source": [
    "#t=int(input())\n",
    "s=input()\n",
    "u=input()\n",
    "s1=str(len(s))\n",
    "u1=str(len(u))\n",
    "z=0\n",
    "for i in range(len(u)):\n",
    "    for j in range(len(s)):\n",
    "        if  u[i]==s[j]:\n",
    "            z=z+1\n",
    "a=(int(s1)+int(u1))-(z)\n",
    "print(a)\n"
   ]
  },
  {
   "cell_type": "code",
   "execution_count": 3,
   "metadata": {},
   "outputs": [
    {
     "name": "stdout",
     "output_type": "stream",
     "text": [
      "5 41\n"
     ]
    }
   ],
   "source": [
    "s=\"2 42 8 23\"\n",
    "def minuteDiff(s):\n",
    "    k=s.split()\n",
    "    sh=int(k[0])\n",
    "    sm=int(k[1])\n",
    "    eh=int(k[2])\n",
    "    em=int(k[3])\n",
    "    startminutes=(sh*60)+sm\n",
    "    endminutes=(eh*60)+em\n",
    "    return endminutes-startminutes\n",
    "\n",
    "def outputTimeFormat(minutes):\n",
    "    #convert minutes to HH MM\n",
    "    hh=minutes//60\n",
    "    mm=minutes%60\n",
    "    print(hh,mm)\n",
    "    return \n",
    "\n",
    "\n",
    "minutes=minuteDiff(s)\n",
    "outputTimeFormat(minutes)"
   ]
  },
  {
   "cell_type": "code",
   "execution_count": 4,
   "metadata": {},
   "outputs": [
    {
     "name": "stdout",
     "output_type": "stream",
     "text": [
      "2\n",
      "2 34 6 78\n",
      "4 44\n",
      "5 32 9 56\n",
      "4 24\n"
     ]
    }
   ],
   "source": [
    "#duration \n",
    "s=\"1 44 2 44\"\n",
    "def minuteDiff(s):\n",
    "    k=s.split()\n",
    "    sh=int(k[0])\n",
    "    sm=int(k[1])\n",
    "    eh=int(k[2])\n",
    "    em=int(k[3])\n",
    "    startminutes=(sh*60)+sm\n",
    "    endminutes=(eh*60)+em\n",
    "    return endminutes-startminutes\n",
    "\n",
    "def outputTimeFormat(minutes):\n",
    "    #convert minutes to HH MM\n",
    "    hh=minutes//60\n",
    "    mm=minutes%60\n",
    "    print(hh,mm)\n",
    "    return \n",
    "\n",
    "n=int(input())\n",
    "for i in range(0,n):\n",
    "    s=input()\n",
    "    minutes=minuteDiff(s)\n",
    "    outputTimeFormat(minutes)\n",
    "\n",
    "\n",
    "minutes=minuteDiff(s)"
   ]
  },
  {
   "cell_type": "code",
   "execution_count": null,
   "metadata": {},
   "outputs": [],
   "source": [
    "#playing with numbers\n",
    "\n",
    "line 1: array size(n),no of queries(q)\n",
    "line2: array elements\n",
    "next q lines: query-sub array of the original array\n",
    "\n"
   ]
  },
  {
   "cell_type": "code",
   "execution_count": null,
   "metadata": {},
   "outputs": [],
   "source": []
  },
  {
   "cell_type": "code",
   "execution_count": null,
   "metadata": {},
   "outputs": [],
   "source": []
  },
  {
   "cell_type": "code",
   "execution_count": null,
   "metadata": {},
   "outputs": [],
   "source": []
  },
  {
   "cell_type": "code",
   "execution_count": null,
   "metadata": {},
   "outputs": [],
   "source": []
  }
 ],
 "metadata": {
  "kernelspec": {
   "display_name": "Python 3",
   "language": "python",
   "name": "python3"
  },
  "language_info": {
   "codemirror_mode": {
    "name": "ipython",
    "version": 3
   },
   "file_extension": ".py",
   "mimetype": "text/x-python",
   "name": "python",
   "nbconvert_exporter": "python",
   "pygments_lexer": "ipython3",
   "version": "3.7.3"
  }
 },
 "nbformat": 4,
 "nbformat_minor": 2
}
