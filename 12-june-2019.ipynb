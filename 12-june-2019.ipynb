{
 "cells": [
  {
   "cell_type": "code",
   "execution_count": null,
   "metadata": {},
   "outputs": [],
   "source": [
    "# Problem Solving and Programming\n",
    "\n",
    "\n",
    "### Date 12-june-2019\n",
    "\n",
    "\n",
    "\n",
    "# Day Objectives\n",
    "\n",
    "Day Objectives\n",
    "String Slicing\n",
    "Functions in Python\n",
    "Basic problems related to conditional statements using functions\n",
    "Iterations in python\n",
    "Python Data Structures-lists Tuples and Dictionaries\n",
    "Basic operatioins on Data Structres\n",
    "Applying Data Structures to solve problems\n",
    "\n"
   ]
  },
  {
   "cell_type": "markdown",
   "metadata": {},
   "source": [
    "# string slicing"
   ]
  },
  {
   "cell_type": "code",
   "execution_count": 28,
   "metadata": {},
   "outputs": [
    {
     "data": {
      "text/plain": [
       "'o'"
      ]
     },
     "execution_count": 28,
     "metadata": {},
     "output_type": "execute_result"
    }
   ],
   "source": [
    "s1 = \"hithisisapssdcprogrammingtraining\"\n",
    "\n",
    "s1[0] # accessing first character in the string\n",
    "s1[4]\n",
    "\n",
    "\n",
    "s1[0:3]   # print o to 3\n",
    "len(s1)\n",
    "\n",
    "\n",
    "s1[len(s1)-1]# print last character in the string\n",
    "s1[3]\n",
    "\n",
    "\n",
    "s1[-1]  # Another way of accessing the last character\n",
    "\n",
    "\n",
    "s1[-2]  #last but one character\n",
    "\n",
    "\n",
    "s1[0:2]\n",
    "\n",
    "\n",
    "s1[-2:]  # print last 2 characters\n",
    "\n",
    "\n",
    "s1[2:]   #print 2nd character to last character\n",
    "\n",
    "\n",
    "s1[1:-1] ##Accessing all characters except first and last character.\n",
    "\n",
    "s1[2:-2]  ##Accessing all characters except second and second character\n",
    "\n",
    "\n",
    "len(s1)\n",
    "s1[len(s1)//2]\n",
    "s1[31:0]\n",
    "\n",
    "\n",
    "\n",
    "\n",
    "s1[-1::-1] ##REVERSE OF A STRING\n",
    "\n",
    "s1[-3:]\n",
    "s1[:-3]\n",
    "s1[-1:-3:-1] ## Accessing last two characters in reverse \n",
    "\n",
    "s1[len(s1)//2]  ###Access middle character in the string\n",
    "\n",
    "\n",
    "\n"
   ]
  },
  {
   "cell_type": "code",
   "execution_count": 25,
   "metadata": {},
   "outputs": [
    {
     "data": {
      "text/plain": [
       "'ph'"
      ]
     },
     "execution_count": 25,
     "metadata": {},
     "output_type": "execute_result"
    }
   ],
   "source": [
    "##Accessing Alternate characters in the string \n",
    "\n",
    "s2=\"python\"\n",
    "s2\n",
    "\n",
    "\n",
    "s2[::2]  ##Accessing Alternative characters\n",
    "\n",
    "         if u put 2 it means only 1 character is alternative \n",
    "            \n",
    "        if u put 3  it means two characters are alternative\n",
    "\n",
    "s2[::-2] ## last characters of alternative\n",
    "\n",
    "s2[::1]   ## when u put 1 there is no change in output\n",
    "\n",
    "s2[::3]  ##if u put 3  it means two characters are alternative\n",
    "\n",
    "\n",
    "\n",
    "\n"
   ]
  },
  {
   "cell_type": "markdown",
   "metadata": {},
   "source": [
    "# FUNCTIONS"
   ]
  },
  {
   "cell_type": "code",
   "execution_count": 28,
   "metadata": {},
   "outputs": [
    {
     "data": {
      "text/plain": [
       "'nohtyp'"
      ]
     },
     "execution_count": 28,
     "metadata": {},
     "output_type": "execute_result"
    }
   ],
   "source": [
    "#Function to reverse a string \n",
    "\n",
    "\n",
    "s=\"python\"\n",
    "s\n",
    "\n",
    "def reverseString(s):\n",
    "    return s[::-1]\n",
    "\n",
    "reverseString(\"python\")\n",
    "\n",
    "\n",
    "\n",
    "\n"
   ]
  },
  {
   "cell_type": "code",
   "execution_count": 31,
   "metadata": {},
   "outputs": [
    {
     "data": {
      "text/plain": [
       "True"
      ]
     },
     "execution_count": 31,
     "metadata": {},
     "output_type": "execute_result"
    }
   ],
   "source": [
    "#Function to check if a string is palindrome or not , if palindrome output will be \"TRUE\", else output is \"FALSE\"\n",
    "\n",
    "\n",
    "def palindrome(s):\n",
    "    if s == s[::-1]:\n",
    "        return True\n",
    "    else:\n",
    "        return False\n",
    "    \n",
    "palindrome(\"cooc\")\n",
    "\n",
    "\n",
    "\n",
    "\n"
   ]
  },
  {
   "cell_type": "code",
   "execution_count": 19,
   "metadata": {},
   "outputs": [
    {
     "name": "stdout",
     "output_type": "stream",
     "text": [
      "54 60 66 72 78 84 90 96 "
     ]
    }
   ],
   "source": [
    "## print all the numbers divisible by 6\n",
    "\n",
    "## and not a factor of 100 in a given range(lb,ub)\n",
    "\n",
    "\n",
    "def Divisibleby6(l,u):\n",
    "    for i in range(l,u):\n",
    "        if i%6==0 and i%100!=0 :\n",
    "            print(i,end=\" \")\n",
    "    return\n",
    "        \n",
    "Divisibleby6(50,100)\n"
   ]
  },
  {
   "cell_type": "code",
   "execution_count": 20,
   "metadata": {},
   "outputs": [
    {
     "data": {
      "text/plain": [
       "64.0"
      ]
     },
     "execution_count": 20,
     "metadata": {},
     "output_type": "execute_result"
    }
   ],
   "source": [
    "## Function to find average of cubes of all even number\n",
    "##in a given range(lb,ub)\n",
    "\n",
    "\n",
    "def Even(l,u):\n",
    "    for i in range(l,u):\n",
    "        sum=0\n",
    "        count=0\n",
    "        if i%2==0:\n",
    "            sum=sum+i**3\n",
    "            count=count+1\n",
    "    return sum/count\n",
    "    \n",
    "            \n",
    "    \n",
    "Even(1,5)\n"
   ]
  },
  {
   "cell_type": "code",
   "execution_count": 21,
   "metadata": {},
   "outputs": [
    {
     "name": "stdout",
     "output_type": "stream",
     "text": [
      "1 3 5 "
     ]
    }
   ],
   "source": [
    "#Write a program to print ALL THE FACTORS OF A GIVEN NUMBER\n",
    "\n",
    "\n",
    "def PrintFactors(n):\n",
    "    for i in range(1,n):\n",
    "        if n%i==0:\n",
    "            print(i,end=\" \")\n",
    "PrintFactors(15)"
   ]
  },
  {
   "cell_type": "code",
   "execution_count": 22,
   "metadata": {},
   "outputs": [
    {
     "data": {
      "text/plain": [
       "720"
      ]
     },
     "execution_count": 22,
     "metadata": {},
     "output_type": "execute_result"
    }
   ],
   "source": [
    "##Write a program to print factorial of a given number\n",
    "\n",
    "\n",
    "def fact(n):\n",
    "    if n==1:\n",
    "        return n\n",
    "    else:\n",
    "        return n*fact(n-1)\n",
    "fact(6)"
   ]
  },
  {
   "cell_type": "code",
   "execution_count": 23,
   "metadata": {},
   "outputs": [
    {
     "data": {
      "text/plain": [
       "True"
      ]
     },
     "execution_count": 23,
     "metadata": {},
     "output_type": "execute_result"
    }
   ],
   "source": [
    "##Write a Function to print wheter a number is prime number or not\n",
    "def Prime(n):\n",
    "    count=0\n",
    "    for i in range(1,n+1):\n",
    "        if n%i==0:\n",
    "            count=count+1\n",
    "    if count==2:\n",
    "        return True\n",
    "    else:\n",
    "        return False\n",
    "Prime(5)"
   ]
  },
  {
   "cell_type": "code",
   "execution_count": 25,
   "metadata": {},
   "outputs": [
    {
     "name": "stdout",
     "output_type": "stream",
     "text": [
      "2 3 5 7 11 13 17 19 "
     ]
    }
   ],
   "source": [
    "##Write a Function to calculate the average first N Prime numbers\n",
    "\n",
    "def PrimeRange(lw,up):\n",
    "    for i in range(lw,up):\n",
    "        if Prime(i)==True:\n",
    "            print(i,end=\" \")\n",
    "PrimeRange(1,20)\n",
    "    "
   ]
  },
  {
   "cell_type": "code",
   "execution_count": 26,
   "metadata": {},
   "outputs": [
    {
     "data": {
      "text/plain": [
       "True"
      ]
     },
     "execution_count": 26,
     "metadata": {},
     "output_type": "execute_result"
    }
   ],
   "source": [
    "##Write a program to find a number is perfect or not\n",
    "\n",
    "\n",
    "\n",
    "def Perfect(n):\n",
    "    sum=0\n",
    "    for i in range(1,n):\n",
    "        if n%i==0:\n",
    "            sum=sum+i\n",
    "    if sum==n:\n",
    "        return True\n",
    "    else: return False\n",
    "Perfect(6)\n",
    "        \n",
    "        \n",
    "        "
   ]
  },
  {
   "cell_type": "code",
   "execution_count": 27,
   "metadata": {},
   "outputs": [
    {
     "name": "stdout",
     "output_type": "stream",
     "text": [
      "6 28 "
     ]
    }
   ],
   "source": [
    "#Write a function to print all perfect numbers in a given range\n",
    "\n",
    "\n",
    "\n",
    "\n",
    "def Range(lw,up):\n",
    "    for i in range(lw,up):\n",
    "        if Perfect(i)==True:\n",
    "            print(i,end=\" \")\n",
    "Range(1,50)"
   ]
  },
  {
   "cell_type": "code",
   "execution_count": 5,
   "metadata": {},
   "outputs": [
    {
     "name": "stdout",
     "output_type": "stream",
     "text": [
      "9\n"
     ]
    }
   ],
   "source": [
    "a=3\n",
    "print(a**2)"
   ]
  }
 ],
 "metadata": {
  "kernelspec": {
   "display_name": "Python 3",
   "language": "python",
   "name": "python3"
  },
  "language_info": {
   "codemirror_mode": {
    "name": "ipython",
    "version": 3
   },
   "file_extension": ".py",
   "mimetype": "text/x-python",
   "name": "python",
   "nbconvert_exporter": "python",
   "pygments_lexer": "ipython3",
   "version": "3.7.3"
  }
 },
 "nbformat": 4,
 "nbformat_minor": 2
}
