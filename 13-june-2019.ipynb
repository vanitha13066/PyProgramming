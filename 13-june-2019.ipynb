{
 "cells": [
  {
   "cell_type": "code",
   "execution_count": 1,
   "metadata": {},
   "outputs": [
    {
     "name": "stdout",
     "output_type": "stream",
     "text": [
      "enter value to print math table:2\n",
      "enter the min range of math table:10\n",
      "enter the max range of math table20\n",
      "2 * 10 = 20\n",
      "2 * 11 = 22\n",
      "2 * 12 = 24\n",
      "2 * 13 = 26\n",
      "2 * 14 = 28\n",
      "2 * 15 = 30\n",
      "2 * 16 = 32\n",
      "2 * 17 = 34\n",
      "2 * 18 = 36\n",
      "2 * 19 = 38\n",
      "2 * 20 = 40\n"
     ]
    }
   ],
   "source": [
    "##Write a function to print a math table\n",
    "\n",
    "\n",
    "def MathTable(n,min,max):\n",
    "    for i in range(min,max+1):\n",
    "        print(n,'*',i,'=',n*i)\n",
    "n=int(input(\"enter value to print math table:\"))\n",
    "\n",
    "min=int(input(\"enter the min range of math table:\"))\n",
    "\n",
    "max=int(input(\"enter the max range of math table\"))\n",
    "MathTable(n,min,max)"
   ]
  },
  {
   "cell_type": "code",
   "execution_count": 26,
   "metadata": {},
   "outputs": [
    {
     "data": {
      "text/plain": [
       "True"
      ]
     },
     "execution_count": 26,
     "metadata": {},
     "output_type": "execute_result"
    }
   ],
   "source": [
    "##Write a Function to print a number is Armstrong or not\n",
    "def Armst(n):\n",
    "    temp=n\n",
    "    sum=0\n",
    "    order = len(str(n))\n",
    "    while temp>0:\n",
    "        digit=temp%10\n",
    "        sum=sum+digit**order\n",
    "        temp=temp//10\n",
    "    if n==sum:\n",
    "        return True\n",
    "    else:\n",
    "        return False\n",
    "Armst(1634)"
   ]
  },
  {
   "cell_type": "code",
   "execution_count": 31,
   "metadata": {},
   "outputs": [
    {
     "data": {
      "text/plain": [
       "120"
      ]
     },
     "execution_count": 31,
     "metadata": {},
     "output_type": "execute_result"
    }
   ],
   "source": [
    "## Write a function to find Factorial of a given number?\n",
    "def factorial(n):\n",
    "    if(n <= 1):\n",
    "        return 1\n",
    "    else:\n",
    "        return(n*factorial(n-1))\n",
    "factorial(5)"
   ]
  },
  {
   "cell_type": "code",
   "execution_count": 15,
   "metadata": {},
   "outputs": [
    {
     "data": {
      "text/plain": [
       "0"
      ]
     },
     "execution_count": 15,
     "metadata": {},
     "output_type": "execute_result"
    }
   ],
   "source": [
    "#Function to average of all factorials in a given range\n",
    "def factorial(lb,ub):\n",
    "    f=1\n",
    "    sum=0\n",
    "    for i in range(lb,ub+1):\n",
    "        f=f*i\n",
    "        sum=sum+f\n",
    "    avg= sum/((ub-lb)+1)\n",
    "    print(avg)\n",
    "factorial(1,5)\n",
    "\n",
    "\n",
    "\n",
    "        "
   ]
  },
  {
   "cell_type": "code",
   "execution_count": 38,
   "metadata": {},
   "outputs": [
    {
     "name": "stdout",
     "output_type": "stream",
     "text": [
      "1\n",
      "3\n",
      "5\n",
      "7\n",
      "9\n",
      "153\n"
     ]
    }
   ],
   "source": [
    "# Function to print N odd Armstrong numbers\n",
    "def oddNArmstrong(n):\n",
    "    for i in range(1,n+1):\n",
    "        sum=0\n",
    "        l=len(str(i))\n",
    "        r=i\n",
    "        while r>0:\n",
    "            digit=r%10\n",
    "            sum=sum+digit**l\n",
    "            r=r//10\n",
    "        if sum==i:\n",
    "             if i%2==1:\n",
    "                 print(i)\n",
    "        else:\n",
    "            i=i+1\n",
    "oddNArmstrong(160)"
   ]
  }
 ],
 "metadata": {
  "kernelspec": {
   "display_name": "Python 3",
   "language": "python",
   "name": "python3"
  },
  "language_info": {
   "codemirror_mode": {
    "name": "ipython",
    "version": 3
   },
   "file_extension": ".py",
   "mimetype": "text/x-python",
   "name": "python",
   "nbconvert_exporter": "python",
   "pygments_lexer": "ipython3",
   "version": "3.7.3"
  }
 },
 "nbformat": 4,
 "nbformat_minor": 2
}
