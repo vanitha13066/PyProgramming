{
 "cells": [
  {
   "cell_type": "code",
   "execution_count": 1,
   "metadata": {},
   "outputs": [
    {
     "name": "stdout",
     "output_type": "stream",
     "text": [
      "-1\n",
      "-1\n"
     ]
    }
   ],
   "source": [
    "li=[-1,-2,2,3]\n",
    "li.sort()\n",
    "\n",
    "pl = []\n",
    "for i in li:\n",
    "    pl.append(abs(i))\n",
    "pl.sort()\n",
    "if pl[0] in li:\n",
    "    print(pl[0])\n",
    "else:\n",
    "    print(-pl[0])\n",
    "    \n",
    "#for lesser value\n",
    "#......same for loop\n",
    "if -pl[0] in li:\n",
    "    print (-pl[0])\n",
    "else:\n",
    "    print(pl[0])"
   ]
  },
  {
   "cell_type": "code",
   "execution_count": 23,
   "metadata": {},
   "outputs": [
    {
     "data": {
      "text/plain": [
       "True"
      ]
     },
     "execution_count": 23,
     "metadata": {},
     "output_type": "execute_result"
    }
   ],
   "source": [
    "##Write a Function to find a number is prime or not\n",
    "def Prime(n):\n",
    "    count=0\n",
    "    for i in range(1,n+1):\n",
    "        if n%i==0:\n",
    "            count=count+1\n",
    "    if count==2:\n",
    "        return True\n",
    "    else:\n",
    "        return False\n",
    "Prime(5)"
   ]
  },
  {
   "cell_type": "code",
   "execution_count": 25,
   "metadata": {},
   "outputs": [
    {
     "name": "stdout",
     "output_type": "stream",
     "text": [
      "2 3 5 7 "
     ]
    }
   ],
   "source": [
    "##Write a Function to print prime numbers in a given range\n",
    "\n",
    "\n",
    "def PrimeRange(lb,ub):\n",
    "    for i in range(lb,ub+1):\n",
    "        if Prime(i)==True:\n",
    "            print(i,end=\" \")\n",
    "PrimeRange(1,10)"
   ]
  },
  {
   "cell_type": "code",
   "execution_count": 30,
   "metadata": {},
   "outputs": [
    {
     "data": {
      "text/plain": [
       "True"
      ]
     },
     "execution_count": 30,
     "metadata": {},
     "output_type": "execute_result"
    }
   ],
   "source": [
    "#Write a Function to print a string is palindrome or not\n",
    "\n",
    "def Palindrome(s1):\n",
    "    if s1==s1[::-1]:\n",
    "        return True\n",
    "    else:\n",
    "        return False\n",
    "Palindrome(\"cooc\")"
   ]
  },
  {
   "cell_type": "code",
   "execution_count": 4,
   "metadata": {},
   "outputs": [
    {
     "data": {
      "text/plain": [
       "720"
      ]
     },
     "execution_count": 4,
     "metadata": {},
     "output_type": "execute_result"
    }
   ],
   "source": [
    "##Write a Function to find factorial of a number\n",
    "\n",
    "def Fact(n):\n",
    "    factorial=1\n",
    "    for i in range(1,n+1):\n",
    "        if n==0:\n",
    "            print(\"factorial of 0 is 1\")\n",
    "        else:\n",
    "            factorial=factorial*i\n",
    "    return factorial\n",
    "Fact(6)"
   ]
  },
  {
   "cell_type": "code",
   "execution_count": 8,
   "metadata": {},
   "outputs": [
    {
     "name": "stdout",
     "output_type": "stream",
     "text": [
      "3\n"
     ]
    }
   ],
   "source": [
    "a=1\n",
    "b=2\n",
    "c=3\n",
    "print(c)\n"
   ]
  },
  {
   "cell_type": "code",
   "execution_count": 34,
   "metadata": {},
   "outputs": [
    {
     "name": "stdout",
     "output_type": "stream",
     "text": [
      "VANITHA\n"
     ]
    }
   ],
   "source": [
    "# String upper case\n",
    "\n",
    "s='vanitha'\n",
    "print(s.upper())\n"
   ]
  },
  {
   "cell_type": "code",
   "execution_count": 35,
   "metadata": {},
   "outputs": [
    {
     "name": "stdout",
     "output_type": "stream",
     "text": [
      "vanitha\n"
     ]
    }
   ],
   "source": [
    "## String lower case\n",
    "\n",
    "s1='VANITHA'\n",
    "print(s1.lower())"
   ]
  },
  {
   "cell_type": "code",
   "execution_count": 2,
   "metadata": {},
   "outputs": [
    {
     "name": "stdout",
     "output_type": "stream",
     "text": [
      "VaNitHa\n"
     ]
    }
   ],
   "source": [
    "##You have been given a String S consisting of uppercase and lowercase English alphabets. \n",
    "##You need to change the case of each alphabet in this String. \n",
    "##That is, all the uppercase letters should be converted to lowercase and all the lowercase letters should be converted to uppercase.\n",
    "##You need to then print the resultant String to output.\n",
    "\n",
    "\n",
    "u=\"vAnIThA\"\n",
    "print(u.swapcase())\n"
   ]
  },
  {
   "cell_type": "code",
   "execution_count": 13,
   "metadata": {},
   "outputs": [
    {
     "name": "stdout",
     "output_type": "stream",
     "text": [
      "strings are equal\n"
     ]
    }
   ],
   "source": [
    "str1=\"abc bed\"\n",
    "str2=\"abc bed\"\n",
    "if str1==str2:\n",
    "    print(\"strings are equal\")\n",
    "else:\n",
    "    print(\"strings are not equal\")\n",
    "    \n",
    "\n",
    "      \n",
    "    "
   ]
  },
  {
   "cell_type": "code",
   "execution_count": 19,
   "metadata": {},
   "outputs": [
    {
     "name": "stdout",
     "output_type": "stream",
     "text": [
      "['abcd']\n"
     ]
    }
   ],
   "source": [
    "d='abcd'\n",
    "li=d.split()\n",
    "print(li)"
   ]
  },
  {
   "cell_type": "code",
   "execution_count": 35,
   "metadata": {},
   "outputs": [
    {
     "name": "stdout",
     "output_type": "stream",
     "text": [
      "True\n",
      "Strings are equal with text :  abcgh  &  abcgh\n"
     ]
    }
   ],
   "source": [
    "string1 = 'abcgh'\n",
    "string2 = 'abcgh'\n",
    "\n",
    "set1 = set(string1.split(' '))\n",
    "set2 = set(string2.split(' '))\n",
    "\n",
    "print(set1 == set2)\n",
    "\n",
    "if string1 == string2 :\n",
    "    print(\"Strings are equal with text : \", string1,\" & \" ,string2)\n",
    "else :\n",
    "    print (\"Strings are not equal\")"
   ]
  },
  {
   "cell_type": "code",
   "execution_count": 11,
   "metadata": {},
   "outputs": [
    {
     "name": "stdout",
     "output_type": "stream",
     "text": [
      "['abc', 'bca']\n",
      "yes\n"
     ]
    }
   ],
   "source": [
    "### TWO STRINGS\n",
    "\n",
    "s=\"abc bca\"\n",
    "u=s.split()\n",
    "print(u)\n",
    "s1=u[0]\n",
    "s2=u[1]\n",
    "if sorted(s1)==sorted(s2):\n",
    "    print(\"yes\")\n",
    "else:\n",
    "    print(\"no\")\n",
    "\n"
   ]
  },
  {
   "cell_type": "code",
   "execution_count": 34,
   "metadata": {},
   "outputs": [
    {
     "name": "stdout",
     "output_type": "stream",
     "text": [
      "abcABC\n",
      "ABCabc\n"
     ]
    }
   ],
   "source": [
    "##TOGGLE STRING\n",
    "\n",
    "def Toggle():\n",
    "    s=input()\n",
    "    new=\"\"\n",
    "    capitals=['A','B','C','D','E']\n",
    "    small=['a','b','c','d','e']\n",
    "    for i in s:\n",
    "        if i in capitals:\n",
    "            n=capitals.index(i)\n",
    "            new=new+small[n]\n",
    "        if i in small:\n",
    "            m=small.index(i)\n",
    "            new=new+capitals[m]\n",
    "    print(new)\n",
    "Toggle()"
   ]
  },
  {
   "cell_type": "code",
   "execution_count": 5,
   "metadata": {},
   "outputs": [
    {
     "name": "stdout",
     "output_type": "stream",
     "text": [
      "hdhuhgGDH\n",
      "HDHUHGgdh\n"
     ]
    }
   ],
   "source": [
    "###Another way of Toggle string\n",
    "def toggleString(S):\n",
    "    words = \"\"\n",
    "    for word in S:\n",
    "        if word.isupper() == True:\n",
    "            words+=word.lower()\n",
    "        else:\n",
    "            words+=word.upper()\n",
    "    print(words) \n",
    "S=input()   \n",
    "toggleString(S)  "
   ]
  },
  {
   "cell_type": "code",
   "execution_count": 6,
   "metadata": {},
   "outputs": [
    {
     "name": "stdout",
     "output_type": "stream",
     "text": [
      "tyt\n"
     ]
    },
    {
     "data": {
      "text/plain": [
       "65"
      ]
     },
     "execution_count": 6,
     "metadata": {},
     "output_type": "execute_result"
    }
   ],
   "source": [
    "\"\"\"Consider All lowercase Alphabets of the English language. Here we consider each alphabet from a to z to have a certain weight. The weight of the alphabet a is considered to be 1, b to be 2, c to be 3 and so on until z has a weight of 26. In short, the weight of the alphabet a is 1, and the weight of all other alphabets is the weight of its previous alphabet + 1.\n",
    "\n",
    "Now, you have been given a String S consisting of lowercase English characters. You need to find the summation of weight of each character in this String.\n",
    "\n",
    "For example, Consider the String aba\n",
    "\n",
    "Here, the first character a has a weight of 1, the second character b has 2 and the third character a again has a weight of 1. So the summation here is equal to : 1+2+1=4\n",
    "\n",
    "Input Format:\n",
    "\n",
    "The first and only line of input contains the String S.\n",
    "\n",
    "Output Format:\n",
    "\n",
    "Print the required answer on a single line\n",
    "\n",
    "Constraints:\n",
    "\n",
    "1≤|S|≤100\n",
    "\n",
    "SAMPLE INPUT \n",
    "aba\n",
    "SAMPLE OUTPUT \n",
    "4\"\"\"\n",
    "\n",
    "\n",
    "def WeightAlphabet(s):\n",
    "    \n",
    "    sum=0\n",
    "    for i in range(0,len(s)):\n",
    "        w=(ord(s[i])-96)\n",
    "        sum=sum+w\n",
    "    return sum       \n",
    "s=input()\n",
    "WeightAlphabet(s)\n",
    "           \n",
    "        \n",
    "\n",
    "\n",
    "\n"
   ]
  },
  {
   "cell_type": "code",
   "execution_count": 4,
   "metadata": {},
   "outputs": [
    {
     "name": "stdout",
     "output_type": "stream",
     "text": [
      "10 "
     ]
    }
   ],
   "source": [
    "\"\"\"You have been given 3 integers - l, r and k. Find how many numbers between l and r (both inclusive) are divisible by k. You do not need to print these numbers, you just have to find their count.\n",
    "\n",
    "Input Format\n",
    "The first and only line of input contains 3 space separated integers l, r and k.\n",
    "\n",
    "Output Format\n",
    "Print the required answer on a single line.\n",
    "\n",
    " \n",
    "SAMPLE INPUT \n",
    "1 10 1\n",
    "SAMPLE OUTPUT \n",
    "10\"\"\"\n",
    "\n",
    "\n",
    "\n",
    "\n",
    "\n",
    "def Count(i,j,k):\n",
    "    count=0\n",
    "    for i in range(1,j+1):\n",
    "        if i%k==0:\n",
    "            count=count+1\n",
    "    print(count,end=\" \")\n",
    "    return \n",
    "Count(1,10,1)\n"
   ]
  },
  {
   "cell_type": "code",
   "execution_count": null,
   "metadata": {},
   "outputs": [
    {
     "name": "stdout",
     "output_type": "stream",
     "text": [
      "3\n",
      "djgj jgkd\n",
      "NO\n"
     ]
    }
   ],
   "source": [
    "\"\"\"Given two strings of equal length, you have to tell whether they both strings are identical.\n",
    "\n",
    "Two strings S1 and S2 are said to be identical, if any of the permutation of string S1 is equal to the string S2. See Sample explanation for more details.\n",
    "\n",
    "Input :\n",
    "\n",
    "First line, contains an intger 'T' denoting no. of test cases.\n",
    "Each test consists of a single line, containing two space separated strings S1 and S2 of equal length.\n",
    "Output:\n",
    "\n",
    "For each test case, if any of the permutation of string S1 is equal to the string S2 print YES else print NO.\n",
    "Constraints:\n",
    "\n",
    "1<= T <=100\n",
    "1<= |S1| = |S2| <= 10^5\n",
    "String is made up of lower case letters only.\n",
    "Note : Use Hashing Concept Only . Try to do it in O(string length) .\n",
    "\n",
    "SAMPLE INPUT \n",
    "3\n",
    "sumit mitsu\n",
    "ambuj jumba\n",
    "abhi hibb\n",
    "SAMPLE OUTPUT \n",
    "YES\n",
    "YES\n",
    "NO\"\"\"\n",
    "\n",
    "\n",
    "\n",
    "\n",
    "size=input()\n",
    "size=int(size)\n",
    "\n",
    "for i in range(1,size+1):\n",
    "    s=input()\n",
    "    s=s.split()\n",
    "    n1=s[0]\n",
    "    n2=s[1]\n",
    "    if sorted(n1)==sorted(n2):\n",
    "        print(\"YES\")\n",
    "    else:\n",
    "        print(\"NO\")\n",
    "\n",
    "\n",
    "\n"
   ]
  },
  {
   "cell_type": "code",
   "execution_count": null,
   "metadata": {},
   "outputs": [],
   "source": [
    "size=input()\n",
    "size=int(size)\n",
    "\n",
    "for i in range(1,size+1):\n",
    "    s=input()\n",
    "    s=s.split()\n",
    "    n1=s[0]\n",
    "    n2=s[1]\n",
    "    if sorted(n1)==sorted(n2):\n",
    "        print(\"YES\")\n",
    "    else:\n",
    "        print(\"NO\")"
   ]
  },
  {
   "cell_type": "code",
   "execution_count": 1,
   "metadata": {},
   "outputs": [
    {
     "name": "stdout",
     "output_type": "stream",
     "text": [
      "1 0\n"
     ]
    }
   ],
   "source": [
    "s=\"1 44 2 44\"\n",
    "def minuteDiff(s):\n",
    "    k=s.split()\n",
    "    sh=int(k[0])\n",
    "    sm=int(k[1])\n",
    "    eh=int(k[2])\n",
    "    em=int(k[3])\n",
    "    startminutes=(sh*60)+sm\n",
    "    endminutes=(eh*60)+em\n",
    "    return endminutes-startminutes\n",
    "\n",
    "def outputTimeFormat(minutes):\n",
    "    #convert minutes to HH MM\n",
    "    hh=minutes//60\n",
    "    mm=minutes%60\n",
    "    print(hh,mm)\n",
    "    return \n",
    "\n",
    "\n",
    "minutes=minuteDiff(s)\n",
    "outputTimeFormat(minutes)"
   ]
  },
  {
   "cell_type": "code",
   "execution_count": null,
   "metadata": {},
   "outputs": [
    {
     "name": "stdout",
     "output_type": "stream",
     "text": [
      "2\n",
      "4 34 8 45\n",
      "4 11\n"
     ]
    }
   ],
   "source": [
    "#duration \n",
    "s=\"1 44 2 44\"\n",
    "def minuteDiff(s):\n",
    "    k=s.split()\n",
    "    sh=int(k[0])\n",
    "    sm=int(k[1])\n",
    "    eh=int(k[2])\n",
    "    em=int(k[3])\n",
    "    startminutes=(sh*60)+sm\n",
    "    endminutes=(eh*60)+em\n",
    "    return endminutes-startminutes\n",
    "\n",
    "def outputTimeFormat(minutes):\n",
    "    #convert minutes to HH MM\n",
    "    hh=minutes//60\n",
    "    mm=minutes%60\n",
    "    print(hh,mm)\n",
    "    return \n",
    "\n",
    "n=int(input())\n",
    "for i in range(0,n):\n",
    "    s=input()\n",
    "    minutes=minuteDiff(s)\n",
    "    outputTimeFormat(minutes)\n",
    "\n",
    "\n",
    "minutes=minuteDiff(s)"
   ]
  },
  {
   "cell_type": "code",
   "execution_count": null,
   "metadata": {},
   "outputs": [],
   "source": []
  }
 ],
 "metadata": {
  "kernelspec": {
   "display_name": "Python 3",
   "language": "python",
   "name": "python3"
  },
  "language_info": {
   "codemirror_mode": {
    "name": "ipython",
    "version": 3
   },
   "file_extension": ".py",
   "mimetype": "text/x-python",
   "name": "python",
   "nbconvert_exporter": "python",
   "pygments_lexer": "ipython3",
   "version": "3.7.3"
  }
 },
 "nbformat": 4,
 "nbformat_minor": 2
}
